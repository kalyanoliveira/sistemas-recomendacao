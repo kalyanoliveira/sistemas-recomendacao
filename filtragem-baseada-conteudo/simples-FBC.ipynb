{
 "cells": [
  {
   "cell_type": "markdown",
   "metadata": {},
   "source": [
    "## Implementação básica de Filtragem baseada em Conteúdo\n",
    "\n",
    "Filtragem baseada em conteúdo é um processo pertencente a sistemas de recomendação, onde o objetivo geral é filtrar uma lista de itens a fim de sugerir aqueles que estimamos ser interessantes para usuários.\n",
    "\n",
    "Dado informações de características de cada item de um catálogo, um item é avaliado como \"relevante\" para um usuário se o mesmo demonstrou alguma preferência por uma característica pertencente ao objeto no passado.\n",
    "\n",
    "Abaixo, uma implementação básica e conceitual de um sistema de recomendação de filmes foi conduzida."
   ]
  },
  {
   "cell_type": "markdown",
   "metadata": {},
   "source": [
    "### 1. Importação de Bibliotecas"
   ]
  },
  {
   "cell_type": "code",
   "execution_count": 1,
   "metadata": {},
   "outputs": [],
   "source": [
    "import pandas as pd"
   ]
  },
  {
   "cell_type": "markdown",
   "metadata": {},
   "source": [
    "### 2. Dados de Itens e Usuários\n",
    "\n",
    "Iremos criar duas `pandas DataFrames` para armazenar dados de itens (filmes) e usuários.\n",
    "\n",
    "Uma primeira DataFrame conterá *representações* de cada item - neste caso, iremos armazenar o gênero de cada filme.\n",
    "\n",
    "A segunda DataFrame terá dados de um histórico de *avaliações*. Os dados necessários para construção dele, em um cenário de aplicação real, seriam fornecidos pelos próprios usuários."
   ]
  },
  {
   "cell_type": "code",
   "execution_count": 2,
   "metadata": {},
   "outputs": [],
   "source": [
    "representacoes = pd.DataFrame({\n",
    "    \"item\": [\"Star Wars\", \"Batman: O Cavaleiro das Trevas\", \"Shrek\", \"Os Incríveis\", \"Avatar\", \"Missão Impossível\", \"Pânico\", \"Hereditário\", \"O Feiticeiro de Oz\", \"A Bela e o Monstro\"],\n",
    "    \"genero\": [\"Ficção Científica\", \"Ação\", \"Animação\", \"Animação\", \"Ficção Científica\", \"Ação\", \"Terror\", \"Terror\", \"Fantasia\", \"Fantasia\"]\n",
    "})\n",
    "\n",
    "avaliacoes = pd.DataFrame({\n",
    "    \"usuario\": [0, 0, 1, 2, 2, 3, 3, 3, 4],\n",
    "    \"item\": [\"Star Wars\", \"O Feiticeiro de Oz\", \"A Bela e o Monstro\", \"Hereditário\", \"Os Incríveis\", \"Pânico\", \"Shrek\", \"Batman: O Cavaleiro das Trevas\", \"Avatar\"],\n",
    "    \"avaliacao\": [5, 3, 4, 2, 5, 1, 4, 4, 3]\n",
    "})"
   ]
  },
  {
   "cell_type": "markdown",
   "metadata": {},
   "source": [
    "### 3. Criando Perfis de Usuários\n",
    "\n",
    "Vamos agora dispor dos dados de avaliações para modelar a preferências de cada usuário no que se diz sobre gêneros de filmes.\n",
    "\n",
    "Iremos pegar o filme mais bem avaliado de cada usuário, e dizer que o gênero do mesmo é a preferência dele."
   ]
  },
  {
   "cell_type": "code",
   "execution_count": 3,
   "metadata": {},
   "outputs": [
    {
     "name": "stdout",
     "output_type": "stream",
     "text": [
      "Gênero preferido do usuário 0: Ficção Científica\n",
      "Gênero preferido do usuário 1: Fantasia\n",
      "Gênero preferido do usuário 2: Animação\n",
      "Gênero preferido do usuário 3: Animação\n",
      "Gênero preferido do usuário 4: Ficção Científica\n"
     ]
    }
   ],
   "source": [
    "for u in range(5):\n",
    "    avaliacoes_usuario = avaliacoes[avaliacoes[\"usuario\"] == u]\n",
    "\n",
    "    melhor_avaliacao = avaliacoes_usuario.sort_values(by=\"avaliacao\", ascending=False).values[0]\n",
    "\n",
    "    genero_preferido = representacoes[representacoes[\"item\"] == melhor_avaliacao[1]][\"genero\"].values[0]\n",
    "\n",
    "    print(f\"Gênero preferido do usuário {u}: {genero_preferido}\")"
   ]
  },
  {
   "cell_type": "markdown",
   "metadata": {},
   "source": [
    "Acima, temos os gênero preferido de cada usuário. Eventualmente iremos utiliza-lo para gerar recomendações, mas por enquanto iremos armazenar estes perfis."
   ]
  },
  {
   "cell_type": "code",
   "execution_count": 4,
   "metadata": {},
   "outputs": [
    {
     "name": "stdout",
     "output_type": "stream",
     "text": [
      "{0: 'Ficção Científica', 1: 'Fantasia', 2: 'Animação', 3: 'Animação', 4: 'Ficção Científica'}\n"
     ]
    }
   ],
   "source": [
    "perfis = {}\n",
    "\n",
    "for u in range(5):\n",
    "    avaliacoes_usuario = avaliacoes[avaliacoes[\"usuario\"] == u]\n",
    "    melhor_avaliacao = avaliacoes_usuario.sort_values(by=\"avaliacao\", ascending=False).values[0]\n",
    "    genero_preferido = representacoes[representacoes[\"item\"] == melhor_avaliacao[1]][\"genero\"].values[0]\n",
    "    perfis[u] = genero_preferido\n",
    "\n",
    "print(perfis)"
   ]
  },
  {
   "cell_type": "markdown",
   "metadata": {},
   "source": [
    "### 4. A Função Avaliar\n",
    "\n",
    "De uma maneira simplista, uma função \"avaliar\" para este cenário poderia simplesmente prever a utilidade de um item (filme) para um usuário ao comparar o gênero daquele item com as preferências do usuário em questão.\n",
    "\n",
    "A utilidade de um filme para um usuário seria um valor binário: sim, ou não."
   ]
  },
  {
   "cell_type": "code",
   "execution_count": 5,
   "metadata": {},
   "outputs": [],
   "source": [
    "def avaliar(usuario: int, item: str) -> bool:\n",
    "    \"\"\"\n",
    "    Dado um usuário e um item, retorna a utilidade daquele item para aquele usuário.\n",
    "\n",
    "    Args:\n",
    "        usuario: int representando o id do usuário\n",
    "        item: ttr do nome do item \n",
    "\n",
    "    Returns:\n",
    "        utilidade: bool indicando se o usuário gosta ou não do item\n",
    "    \"\"\"\n",
    "\n",
    "    genero_preferido_usuario = perfis[usuario] \n",
    "\n",
    "    filmes_parecidos = representacoes[representacoes[\"genero\"] == genero_preferido_usuario]\n",
    "\n",
    "    if item not in filmes_parecidos[\"item\"].values:\n",
    "        utilidade = False\n",
    "    else:\n",
    "        utilidade = True\n",
    "\n",
    "    return utilidade "
   ]
  },
  {
   "cell_type": "markdown",
   "metadata": {},
   "source": [
    "Sabemos que o usuário `0` avaliou o filme `Star Wars` com uma nota máxima de `5`, portanto inferimos que ele possui uma preferência por filmes do gênero `Ficção Científica`. Isso significa que o filme `Avatar` deve ser útil para ele:"
   ]
  },
  {
   "cell_type": "code",
   "execution_count": 6,
   "metadata": {},
   "outputs": [
    {
     "data": {
      "text/plain": [
       "True"
      ]
     },
     "execution_count": 6,
     "metadata": {},
     "output_type": "execute_result"
    }
   ],
   "source": [
    "avaliar(0, \"Avatar\")"
   ]
  },
  {
   "cell_type": "markdown",
   "metadata": {},
   "source": [
    "Vamos utilizar a função avaliar para criar um processo de geração de recomendações."
   ]
  },
  {
   "cell_type": "code",
   "execution_count": 22,
   "metadata": {},
   "outputs": [
    {
     "name": "stdout",
     "output_type": "stream",
     "text": [
      "Recomendações para usuário 0:\n",
      "Star Wars\n",
      "Avatar\n",
      "Recomendações para usuário 1:\n",
      "O Feiticeiro de Oz\n",
      "A Bela e o Monstro\n",
      "Recomendações para usuário 2:\n",
      "Shrek\n",
      "Os Incríveis\n",
      "Recomendações para usuário 3:\n",
      "Shrek\n",
      "Os Incríveis\n",
      "Recomendações para usuário 4:\n",
      "Star Wars\n",
      "Avatar\n"
     ]
    }
   ],
   "source": [
    "recomendacoes = []\n",
    "\n",
    "for u in range(5):\n",
    "    estimativas_usuario = []\n",
    "\n",
    "    for filme in representacoes[\"item\"].values:\n",
    "        if (avaliar(u, filme)):\n",
    "            estimativas_usuario.append((filme))\n",
    "\n",
    "    recomendacoes.append((u, estimativas_usuario))\n",
    "\n",
    "for rs in recomendacoes: \n",
    "    print(f\"Recomendações para usuário {rs[0]}:\")\n",
    "    for r in rs[1]:\n",
    "        print(r)"
   ]
  }
 ],
 "metadata": {
  "kernelspec": {
   "display_name": "base",
   "language": "python",
   "name": "python3"
  },
  "language_info": {
   "codemirror_mode": {
    "name": "ipython",
    "version": 3
   },
   "file_extension": ".py",
   "mimetype": "text/x-python",
   "name": "python",
   "nbconvert_exporter": "python",
   "pygments_lexer": "ipython3",
   "version": "3.9.13"
  },
  "orig_nbformat": 4
 },
 "nbformat": 4,
 "nbformat_minor": 2
}
