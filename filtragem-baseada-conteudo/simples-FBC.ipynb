{
 "cells": [
  {
   "cell_type": "markdown",
   "metadata": {},
   "source": [
    "## Implementação básica de Filtragem baseada em Conteúdo"
   ]
  },
  {
   "cell_type": "markdown",
   "metadata": {},
   "source": [
    "### 1. Importação de Bibliotecas"
   ]
  },
  {
   "cell_type": "code",
   "execution_count": 1,
   "metadata": {},
   "outputs": [],
   "source": [
    "import pandas as pd"
   ]
  },
  {
   "cell_type": "markdown",
   "metadata": {},
   "source": [
    "### 2. Dados de Itens e Usuários\n",
    "\n",
    "Iremos criar `pandas DataFrames` para armazenar dados de itens (filmes) e usuários\n",
    "\n",
    "A primeira DataFrame conterá os gêneros de cada filme, a segunda conterá as preferências de cada usuário para cada gênero disponível."
   ]
  },
  {
   "cell_type": "code",
   "execution_count": 3,
   "metadata": {},
   "outputs": [],
   "source": [
    "dados_itens = pd.DataFrame({\n",
    "    \"filme\": [\"Star Wars\", \"Batman: O Cavaleiro das Trevas\", \"Shrek\", \"Os Incríveis\", \"Avatar\", \"Missão Impossível\", \"Pânico\", \"Hereditário\", \"O Feiticeiro de Oz\", \"A Bela e o Monstro\"],\n",
    "    \"genero\": [\"Ficção Científica\", \"Ação\", \"Animação\", \"Animação\", \"Ficção Científica\", \"Ação\", \"Terror\", \"Terror\", \"Fantasia\", \"Fantasia\"]\n",
    "})\n",
    "\n",
    "dados_usuarios = pd.DataFrame({\n",
    "    \"usuario\": [0, 0, 1, 2, 2, 3, 3, 3, 4],\n",
    "    \"genero\": [\"Ficção Científica\", \"Terror\", \"Animação\", \"Terror\", \"Fantasia\", \"Ação\", \"Fantasia\", \"Animação\", \"Ficção Científica\"]\n",
    "})"
   ]
  },
  {
   "cell_type": "markdown",
   "metadata": {},
   "source": [
    "### 3. A Função Avaliar\n",
    "\n",
    "De uma maneira simplista, uma função \"avaliar\" para este cenário poderia simplesmente prever a utilidade de um item (filme) para um usuário ao comparar o gênero daquele item com as preferências do usuário em questão.\n",
    "\n",
    "A utilidade de um filme para um usuário seria um valor binário: sim, ou não."
   ]
  },
  {
   "cell_type": "code",
   "execution_count": 8,
   "metadata": {},
   "outputs": [],
   "source": [
    "def avaliar(usuario: int, item: int) -> bool:\n",
    "    \"\"\"\n",
    "    Dado um usuário e um item, retorna a utilidade daquele item\n",
    "    \"\"\"\n",
    "    generos_usuario\n",
    "\n",
    "    return utilidade "
   ]
  }
 ],
 "metadata": {
  "kernelspec": {
   "display_name": "base",
   "language": "python",
   "name": "python3"
  },
  "language_info": {
   "codemirror_mode": {
    "name": "ipython",
    "version": 3
   },
   "file_extension": ".py",
   "mimetype": "text/x-python",
   "name": "python",
   "nbconvert_exporter": "python",
   "pygments_lexer": "ipython3",
   "version": "3.9.13"
  },
  "orig_nbformat": 4
 },
 "nbformat": 4,
 "nbformat_minor": 2
}
