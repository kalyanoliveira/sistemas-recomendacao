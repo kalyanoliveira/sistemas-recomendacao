{
 "cells": [
  {
   "cell_type": "markdown",
   "metadata": {},
   "source": [
    "### Implementação Básica de Filtragem baseada em Conteúdo por Semântica Endógena TF-IDF\n",
    "\n",
    "Filtragem baseada em conteúdo é um processo pertencente a sistemas de recomendação, onde o objetivo geral é filtrar uma lista de itens a fim de sugerir aqueles que estimamos ser interessantes para usuários.\n",
    "\n",
    "Dado informações de características de cada item de um catálogo, um item é avaliado como \"relevante\" para um usuário se o mesmo demonstrou alguma preferência por uma característica pertencente ao objeto no passado.\n",
    "\n",
    "Abaixo, uma implementação de filtragem baseada em conteúdo por semântica endógena TF-IDF de artigos do Wikipedia foi desenvolvida."
   ]
  },
  {
   "cell_type": "markdown",
   "metadata": {},
   "source": [
    "#### 1. Importação de Bibliotecas"
   ]
  },
  {
   "cell_type": "code",
   "execution_count": 1,
   "metadata": {},
   "outputs": [],
   "source": [
    "import pandas as pd\n",
    "import numpy as np\n",
    "from sklearn.feature_extraction.text import TfidfVectorizer"
   ]
  },
  {
   "cell_type": "markdown",
   "metadata": {},
   "source": [
    "#### 2. Dados de Itens e Usuários\n",
    "\n",
    "Primeiramente, iremos pegar o primeiro parágrafo de alguns artigos do Wikipedia relacionados a *\"Machine Learning\"*, e criaremos uma `pandas DataFrame` disso."
   ]
  },
  {
   "cell_type": "code",
   "execution_count": 2,
   "metadata": {},
   "outputs": [],
   "source": [
    "titulos = [\"Activation function\", \n",
    "           \"AlexNet\", \n",
    "           \"Adaptive website\", \n",
    "           \"AI boom\", \n",
    "           \"Active learning (machine learning)\", \n",
    "           \"Affective computing\", \n",
    "           \"Alan Turing\", \n",
    "           \"Agriculture\", \n",
    "           \"AI winter\", \n",
    "           \"Machine learning\", \n",
    "           \"Action selection\", \n",
    "           \"AI safety\", \n",
    "           \"ADALINE\", \n",
    "           \"AAAI Conference on Artificial Intelligence\", \n",
    "           \"ACM Computing Surveys\", \n",
    "           \"AI takeover\", \n",
    "           \"ACM Computing Classification System\", \n",
    "           \"Adversarial machine learning\"]\n",
    "\n",
    "paragrafos = [\"In artificial neural networks, the activation function of a node defines the output of that node given an input or set of inputs.\", \n",
    "              \"AlexNet is the name of a convolutional neural network (CNN) architecture, designed by Alex Krizhevsky in collaboration with Ilya Sutskever and Geoffrey Hinton, who was Krizhevsky's Ph.D. advisor.\", \n",
    "              \"An adaptive website is a website that builds a model of user activity and modifies the information and/or presentation of information to the user in order to better address the user's needs.\", \n",
    "              \"The AI boom (also known as the AI spring) refers to an ongoing period of rapid and unprecedented development in the field of artificial intelligence, with the generative AI race being a key component of this boom, which began in earnest with the founding of OpenAI in 2016 or 2017. OpenAI's generative AI systems, such as its various GPT models (starting in 2018) and DALL-E (2021), have played a significant role in driving this development.\", \n",
    "              \"Active learning is a special case of machine learning in which a learning algorithm can interactively query a user (or some other information source) to label new data points with the desired outputs. In statistics literature, it is sometimes also called optimal experimental design. The information source is also called teacher or oracle.\", \n",
    "              \"Affective computing is the study and development of systems and devices that can recognize, interpret, process, and simulate human affects. It is an interdisciplinary field spanning computer science, psychology, and cognitive science. While some core ideas in the field may be traced as far back as to early philosophical inquiries into emotion, the more modern branch of computer science originated with Rosalind Picard's 1995 paper on affective computing and her book Affective Computing published by MIT Press. One of the motivations for the research is the ability to give machines emotional intelligence, including to simulate empathy. The machine should interpret the emotional state of humans and adapt its behavior to them, giving an appropriate response to those emotions.\", \n",
    "              \"Alan Mathison Turing OBE FRS (/ˈtjʊərɪŋ/; 23 June 1912 – 7 June 1954) was a British mathematician, computer scientist, logician, cryptanalyst, philosopher, and theoretical biologist. Turing was highly influential in the development of theoretical computer science, providing a formalisation of the concepts of algorithm and computation with the Turing machine, which can be considered a model of a general-purpose computer. He is widely considered to be the father of theoretical computer science and artificial intelligence.\", \n",
    "              \"Agriculture encompasses crop and livestock production, aquaculture, fisheries and forestry for food and non-food products. Agriculture was the key development in the rise of sedentary human civilization, whereby farming of domesticated species created food surpluses that enabled people to live in cities. While humans started gathering grains at least 105,000 years ago, nascent farmers only began planting them around 11,500 years ago. Sheep, goats, pigs and cattle were domesticated around 10,000 years ago. Plants were independently cultivated in at least 11 regions of the world. In the twentieth century, industrial agriculture based on large-scale monocultures came to dominate agricultural output.\", \n",
    "              \"In the history of artificial intelligence, an AI winter is a period of reduced funding and interest in artificial intelligence research. The term was coined by analogy to the idea of a nuclear winter. The field has experienced several hype cycles, followed by disappointment and criticism, followed by funding cuts, followed by renewed interest years or even decades later.\", \n",
    "              \"Machine learning (ML) is an umbrella term for solving problems for which development of algorithms by human programmers would be cost-prohibitive, and instead the problems are solved by helping machines 'discover' their 'own' algorithms, without needing to be explicitly told what to do by any human-developed algorithms. When there was a vast amount of potential answers, the correct ones needed to be labeled as valid by human labelers initially and human supervision was needed.\", \n",
    "              \"Action selection is a way of characterizing the most basic problem of intelligent systems: what to do next. In artificial intelligence and computational cognitive science, \\\"the action selection problem\\\" is typically associated with intelligent agents and animats—artificial systems that exhibit complex behaviour in an agent environment. The term is also sometimes used in ethology or animal behavior.\", \n",
    "              \"AI safety is an interdisciplinary field concerned with preventing accidents, misuse, or other harmful consequences that could result from artificial intelligence (AI) systems. It encompasses machine ethics and AI alignment, which aim to make AI systems moral and beneficial, and AI safety encompasses technical problems including monitoring systems for risks and making them highly reliable. Beyond AI research, it involves developing norms and policies that promote safety.\", \n",
    "              \"ADALINE (Adaptive Linear Neuron or later Adaptive Linear Element) is an early single-layer artificial neural network and the name of the physical device that implemented this network. The network uses memistors. It was developed by professor Bernard Widrow and his doctoral student Ted Hoff at Stanford University in 1960. It is based on the perceptron. It consists of a weight, a bias and a summation function.\", \n",
    "              \"The AAAI Conference on Artificial Intelligence (AAAI) is one of the leading international academic conference in artificial intelligence held annually. Along with ICML, NeurIPS and ICLR, it is one of the primary conferences of high impact in machine learning and artificial intelligence research. It is supported by the Association for the Advancement of Artificial Intelligence. Precise dates vary from year to year, but paper submissions are generally due at the end of August to beginning of September, and the conference is generally held during the following February. The first AAAI was held in 1980 at Stanford University, Stanford California.\", \n",
    "              \"ACM Computing Surveys is a quarterly peer-reviewed scientific journal published by the Association for Computing Machinery. It publishes survey articles and tutorials related to computer science and computing. The journal was established in 1969 with William S. Dorn as founding editor-in-chief.\", \n",
    "              \"An AI takeover is a hypothetical scenario in which artificial intelligence (AI) becomes the dominant form of intelligence on Earth, as computer programs or robots effectively take control of the planet away from the human species. Possible scenarios include replacement of the entire human workforce, takeover by a superintelligent AI, and the popular notion of a robot uprising. Stories of AI takeovers are very popular throughout science fiction. Some public figures, such as Stephen Hawking and Elon Musk, have advocated research into precautionary measures to ensure future superintelligent machines remain under human control.\", \n",
    "              \"The ACM Computing Classification System (CCS) is a subject classification system for computing devised by the Association for Computing Machinery (ACM). The system is comparable to the Mathematics Subject Classification (MSC) in scope, aims, and structure, being used by the various ACM journals to organize subjects by area.\", \n",
    "              \"Adversarial machine learning is the study of the attacks on machine learning algorithms, and of the defenses against such attacks. A survey from May 2020 exposes the fact that practitioners report a dire need for better protecting machine learning systems in industrial applications.\"]\n",
    "\n",
    "conteudos = pd.DataFrame({\"item\": titulos,\n",
    "                          \"conteudo\": paragrafos})"
   ]
  },
  {
   "cell_type": "markdown",
   "metadata": {},
   "source": [
    "Agora, iremos criar outra `pandas DataFrame` com feedback explícito (avaliações) de 5 usuários."
   ]
  },
  {
   "cell_type": "code",
   "execution_count": 3,
   "metadata": {},
   "outputs": [],
   "source": [
    "avaliacoes = pd.DataFrame({\n",
    "    \"usuario\":[0, 1, 2, 3, 4, 0, 1, 2, 3, 4, 0, 1, 2, 3, 4],\n",
    "    \"item\":[\"Activation function\", \"Agriculture\", \"Alan Turing\", \"AI takeover\", \"ACM Computing Surveys\", \"ADALINE\", \"AAAI Conference on Artificial Intelligence\", \"Adversarial machine learning\", \"Affective computing\", \"AlexNet\", \"AI winter\", \"AI safety\", \"ACM Computing Classification System\", \"Adaptive website\", \"AI boom\"],\n",
    "    \"avaliacao\":[5, 4, 3, 5, 3, 5, 5, 3, 4, 5, 1, 3, 4, 1, 1]\n",
    "})"
   ]
  },
  {
   "cell_type": "markdown",
   "metadata": {},
   "source": [
    "#### 3. Representações de Itens\n",
    "\n",
    "Iremos agora criar representações de cada artigo utilizando uma técnica chamada TF-IDF.\n",
    "\n",
    "Cada documento será representado por um vetor. Cada dimensão desse vetor representará a importância de uma palavra (ou combinação de palavras) para aquele documento. O número de dimensões é igual o número de palavras diferentes na combinação de todos os documentos.\n",
    "\n",
    "Utilizamos TF-IDF, que significa *\"Term Frequency-Inverse Document Frequency\"*. Para calcular a relevância de um termo - uma palavra ou combinação de palavras - para um documento fictício \"A\", contamos a quantidade de vezes que este termo aparece no documento A, e multiplicamos este valor pelo inverso da quantidade de vezes que este termo aparece em outros documentos que não o \"A\".\n",
    "\n",
    "A consequência disto é que termos que aparecem muitas vezes em um documento e poucas em outros são considerados mais importantes para aquele documento."
   ]
  },
  {
   "cell_type": "markdown",
   "metadata": {},
   "source": [
    "A biblioteca `sklearn` possui um objeto `TfidfVectorizer` que cria uma matriz TF-IDF. Uma matriz TF-IDF possui termos nas linhas e \"documentos\" nas colunas, de modo que cada valor da matriz representa a relevância de um termo para um documento.\n",
    "\n",
    "No nosso caso, estamos considerando que um \"termo\" é composto de uma ou duas palavras (`ngram_range(1, 2)`), e nossos \"documentos\" são os primeiros parágrafos de cada artigo selecionado do Wikipedia."
   ]
  },
  {
   "cell_type": "code",
   "execution_count": 4,
   "metadata": {},
   "outputs": [],
   "source": [
    "vetorizador_tfidf = TfidfVectorizer(analyzer=\"word\", ngram_range=(1, 2), min_df=0, stop_words=\"english\")"
   ]
  },
  {
   "cell_type": "markdown",
   "metadata": {},
   "source": [
    "Para criar a matriz \"termos-documentos\", podemos utilizar o método `fit_transform` do objeto `vetorizador_tfidf`, passando a coluna `\"conteudo\"` da nossa `DataFrame` `conteudos`."
   ]
  },
  {
   "cell_type": "code",
   "execution_count": 5,
   "metadata": {},
   "outputs": [
    {
     "name": "stdout",
     "output_type": "stream",
     "text": [
      "[[0. 0. 0. ... 0. 0. 0.]\n",
      " [0. 0. 0. ... 0. 0. 0.]\n",
      " [0. 0. 0. ... 0. 0. 0.]\n",
      " ...\n",
      " [0. 0. 0. ... 0. 0. 0.]\n",
      " [0. 0. 0. ... 0. 0. 0.]\n",
      " [0. 0. 0. ... 0. 0. 0.]]\n",
      "(18, 1083)\n"
     ]
    }
   ],
   "source": [
    "matriz_tfidf = vetorizador_tfidf.fit_transform(conteudos[\"conteudo\"])\n",
    "\n",
    "print(matriz_tfidf.toarray())\n",
    "print(matriz_tfidf.shape)"
   ]
  },
  {
   "cell_type": "markdown",
   "metadata": {},
   "source": [
    "Como podemos ver acima, nossa matriz possui os `18` documentos que selecionamos acima, e também possui `1083` termos diferentes.\n",
    "\n",
    "A maioria dos valores desta matriz serão `0`. Podemos visualizar os `top 10` termos mais relevantes de cada documento com o código abaixo:"
   ]
  },
  {
   "cell_type": "code",
   "execution_count": 6,
   "metadata": {},
   "outputs": [
    {
     "name": "stdout",
     "output_type": "stream",
     "text": [
      "Activation function\n",
      "0.39862724922926296 node\n",
      "0.19931362461463148 node given\n",
      "0.19931362461463148 networks\n",
      "0.19931362461463148 given input\n",
      "0.19931362461463148 output node\n",
      "0.19931362461463148 function node\n",
      "0.19931362461463148 activation function\n",
      "0.19931362461463148 activation\n",
      "0.19931362461463148 node defines\n",
      "0.19931362461463148 defines output\n",
      "\n",
      "AlexNet\n",
      "0.3422363546964575 krizhevsky\n",
      "0.17111817734822876 advisor\n",
      "0.17111817734822876 ph\n",
      "0.17111817734822876 ph advisor\n",
      "0.17111817734822876 cnn\n",
      "0.17111817734822876 cnn architecture\n",
      "0.17111817734822876 designed\n",
      "0.17111817734822876 designed alex\n",
      "0.17111817734822876 collaboration\n",
      "0.17111817734822876 alexnet convolutional\n",
      "\n",
      "Adaptive website\n",
      "0.41909147963799404 user\n",
      "0.3192016096558265 website\n",
      "0.2793943197586627 information\n",
      "0.15960080482791325 needs\n",
      "0.15960080482791325 address\n",
      "0.15960080482791325 website website\n",
      "0.15960080482791325 website builds\n",
      "0.15960080482791325 better address\n",
      "0.15960080482791325 adaptive website\n",
      "0.15960080482791325 builds\n",
      "\n",
      "AI boom\n",
      "0.30208940228783404 ai\n",
      "0.2103169908780517 openai\n",
      "0.2103169908780517 generative ai\n",
      "0.2103169908780517 generative\n",
      "0.2103169908780517 boom\n",
      "0.1392508285627045 development\n",
      "0.10515849543902585 boom began\n",
      "0.10515849543902585 rapid\n",
      "0.10515849543902585 race key\n",
      "0.10515849543902585 race\n",
      "\n",
      "Active learning (machine learning)\n",
      "0.26503637693084897 learning\n",
      "0.24602718200711543 called\n",
      "0.24602718200711543 information source\n",
      "0.24602718200711543 source\n",
      "0.21534539638799094 information\n",
      "0.12301359100355772 new data\n",
      "0.12301359100355772 new\n",
      "0.12301359100355772 active learning\n",
      "0.12301359100355772 active\n",
      "0.12301359100355772 algorithm interactively\n",
      "\n",
      "Affective computing\n",
      "0.24776068936819612 affective\n",
      "0.24776068936819612 affective computing\n",
      "0.1949402616961062 computing\n",
      "0.16517379291213075 simulate\n",
      "0.16517379291213075 emotional\n",
      "0.16517379291213075 interpret\n",
      "0.1640422922358795 science\n",
      "0.1299601744640708 computer science\n",
      "0.11862392136299635 computer\n",
      "0.11862392136299635 field\n",
      "\n",
      "Alan Turing\n",
      "0.2842091072681879 turing\n",
      "0.2842091072681879 theoretical\n",
      "0.2721497012072539 computer\n",
      "0.1894727381787919 theoretical computer\n",
      "0.1894727381787919 considered\n",
      "0.1894727381787919 june\n",
      "0.14907879558714526 computer science\n",
      "0.1254498539147488 science\n",
      "0.09473636908939595 ˈtjʊərɪŋ 23\n",
      "0.09473636908939595 algorithm computation\n",
      "\n",
      "Agriculture\n",
      "0.22614736081025125 years ago\n",
      "0.22614736081025125 agriculture\n",
      "0.22614736081025125 ago\n",
      "0.22614736081025125 food\n",
      "0.19794476634038388 years\n",
      "0.15076490720683416 000\n",
      "0.15076490720683416 000 years\n",
      "0.15076490720683416 domesticated\n",
      "0.15076490720683416 11\n",
      "0.07538245360341708 farming domesticated\n",
      "\n",
      "AI winter\n",
      "0.36578852693503655 followed\n",
      "0.24385901795669102 funding\n",
      "0.24385901795669102 winter\n",
      "0.13988176754610415 artificial intelligence\n",
      "0.13104760033311083 intelligence\n",
      "0.12314516847795093 artificial\n",
      "0.12192950897834551 hype cycles\n",
      "0.12192950897834551 hype\n",
      "0.12192950897834551 nuclear\n",
      "0.12192950897834551 followed renewed\n",
      "\n",
      "Machine learning\n",
      "0.30795907510176196 human\n",
      "0.2814982082852626 algorithms\n",
      "0.2144035027328694 needed\n",
      "0.18766547219017507 problems\n",
      "0.1072017513664347 labelers\n",
      "0.1072017513664347 supervision needed\n",
      "0.1072017513664347 ones\n",
      "0.1072017513664347 ones needed\n",
      "0.1072017513664347 learning ml\n",
      "0.1072017513664347 discover algorithms\n",
      "\n",
      "Action selection\n",
      "0.23817398124886516 action selection\n",
      "0.23817398124886516 problem\n",
      "0.23817398124886516 action\n",
      "0.23817398124886516 selection\n",
      "0.23817398124886516 intelligent\n",
      "0.15769493511921318 systems\n",
      "0.12027430969628845 artificial\n",
      "0.11908699062443258 intelligent agents\n",
      "0.11908699062443258 intelligent systems\n",
      "0.11908699062443258 animal\n",
      "\n",
      "AI safety\n",
      "0.41226381440400617 ai\n",
      "0.287021273294267 safety\n",
      "0.19134751552951132 ai safety\n",
      "0.1900367153147592 systems\n",
      "0.16748477238733783 ai systems\n",
      "0.16748477238733783 encompasses\n",
      "0.09567375776475566 accidents misuse\n",
      "0.09567375776475566 misuse\n",
      "0.09567375776475566 harmful\n",
      "0.09567375776475566 harmful consequences\n",
      "\n",
      "ADALINE\n",
      "0.28910758911492135 network\n",
      "0.2201991982488206 linear\n",
      "0.2201991982488206 adaptive linear\n",
      "0.19273839274328092 adaptive\n",
      "0.1100995991244103 developed professor\n",
      "0.1100995991244103 bernard\n",
      "0.1100995991244103 physical\n",
      "0.1100995991244103 bernard widrow\n",
      "0.1100995991244103 perceptron consists\n",
      "0.1100995991244103 perceptron\n",
      "\n",
      "AAAI Conference on Artificial Intelligence\n",
      "0.2626003064974002 conference\n",
      "0.2626003064974002 held\n",
      "0.2626003064974002 aaai\n",
      "0.20084279481804937 artificial intelligence\n",
      "0.18815866261073533 intelligence\n",
      "0.17681231971349975 artificial\n",
      "0.1750668709982668 conference artificial\n",
      "0.1750668709982668 year\n",
      "0.1750668709982668 generally\n",
      "0.15323446954912776 stanford\n",
      "\n",
      "ACM Computing Surveys\n",
      "0.31572704239599486 computing\n",
      "0.26751699553359753 journal\n",
      "0.13375849776679877 reviewed\n",
      "0.13375849776679877 reviewed scientific\n",
      "0.13375849776679877 scientific journal\n",
      "0.13375849776679877 related computer\n",
      "0.13375849776679877 related\n",
      "0.13375849776679877 published association\n",
      "0.13375849776679877 science computing\n",
      "0.13375849776679877 publishes\n",
      "\n",
      "AI takeover\n",
      "0.2600501115885008 ai\n",
      "0.19503758369137558 human\n",
      "0.18104890980148655 popular\n",
      "0.18104890980148655 control\n",
      "0.18104890980148655 superintelligent\n",
      "0.18104890980148655 takeover\n",
      "0.09729402410955475 intelligence\n",
      "0.09052445490074328 form\n",
      "0.09052445490074328 stephen\n",
      "0.09052445490074328 elon\n",
      "\n",
      "ACM Computing Classification System\n",
      "0.36465521588198513 classification\n",
      "0.31917945557244726 acm\n",
      "0.2869138901500379 computing\n",
      "0.24310347725465675 subject\n",
      "0.24310347725465675 subject classification\n",
      "0.12155173862732838 journals\n",
      "0.12155173862732838 devised association\n",
      "0.12155173862732838 mathematics\n",
      "0.12155173862732838 comparable\n",
      "0.12155173862732838 structure\n",
      "\n",
      "Adversarial machine learning\n",
      "0.29731258873660277 learning\n",
      "0.29731258873660277 machine learning\n",
      "0.2759884481864605 attacks\n",
      "0.23746765002648867 machine\n",
      "0.13799422409323026 2020 exposes\n",
      "0.13799422409323026 defenses\n",
      "0.13799422409323026 defenses attacks\n",
      "0.13799422409323026 algorithms defenses\n",
      "0.13799422409323026 study attacks\n",
      "0.13799422409323026 better protecting\n",
      "\n"
     ]
    }
   ],
   "source": [
    "df = pd.DataFrame(data = matriz_tfidf.toarray(), index=titulos, columns=vetorizador_tfidf.get_feature_names_out())\n",
    "n = 10\n",
    "for doc in range(len(conteudos[\"item\"])):\n",
    "    print(titulos[doc])\n",
    "    sorted_indices = np.argsort(df.values[doc])[::-1]\n",
    "    for i in sorted_indices[:n]:\n",
    "        print(df.values[doc][i], vetorizador_tfidf.get_feature_names_out()[i])\n",
    "    print()"
   ]
  },
  {
   "cell_type": "markdown",
   "metadata": {},
   "source": [
    "#### 4. Gerando Perfis de Usuários"
   ]
  },
  {
   "cell_type": "markdown",
   "metadata": {},
   "source": [
    "Vamos agora utilizar as representações criadas e os dados de interações de usuários para gerar um perfil para cada usuário do nosso sistema.\n",
    "\n",
    "Para cada usuário, pegaremos os itens mais bem avaliados por ele, e calcularemos a média das representações deles. Como cada item é representado por um vetor TF-IDF, é a média de vetores que estaremos calculando e chamando de \"perfil\"."
   ]
  },
  {
   "cell_type": "code",
   "execution_count": 7,
   "metadata": {},
   "outputs": [],
   "source": [
    "def gerar_perfis(representacoes, avaliacoes, n=2):\n",
    "    \"\"\"\n",
    "    Gera perfis de usuários a partir da disponibilidade de dados de avaliações e representações de artigos Wikipedia em TF-IDF.\n",
    "\n",
    "    Params:\n",
    "        representacoes: numpy ndarray, a matriz TF-IDF.\n",
    "        avaliacoes: pandas DataFrame de avaliações do usuários.\n",
    "\n",
    "    Returns:\n",
    "        perfis: list de numpy ndarrays com shape de ndarrays de representações, cada um representando a preferência de usuários por características em itens.\n",
    "    \"\"\"\n",
    "\n",
    "    perfis = []\n",
    "\n",
    "    # Para cada usuário:\n",
    "    for u in range(5):\n",
    "\n",
    "        # Recolher o nome dos itens preferidos do usuário (aqueles mais bem avaliados).\n",
    "        itens_preferidos_usuario = avaliacoes[avaliacoes[\"usuario\"] == u].sort_values(by=\"avaliacao\")[::-1][:n][\"item\"].values\n",
    "\n",
    "        # Recolher o índice dos itens preferidos do usuário\n",
    "        indices_itens_preferidos_usuario = []\n",
    "        for index, t in enumerate(titulos):\n",
    "            if t in itens_preferidos_usuario:\n",
    "                indices_itens_preferidos_usuario.append(index)\n",
    "\n",
    "        # Recolher as representações dos itens preferidos do usuário, que são vetores.\n",
    "        representacoes_itens_preferidos_usuario = []\n",
    "        for index in indices_itens_preferidos_usuario:\n",
    "            representacoes_itens_preferidos_usuario.append(representacoes.toarray()[index])\n",
    "\n",
    "        # Fazer a média das representações/vetores.\n",
    "        soma = np.zeros_like(representacoes_itens_preferidos_usuario[0])\n",
    "        count = 0\n",
    "        for r in representacoes_itens_preferidos_usuario:\n",
    "            soma += r\n",
    "            count += 1\n",
    "        media = soma / count\n",
    "\n",
    "        # A média calculada acima é um vetor que representa a preferência do usuário por cada termo presente no corpus.\n",
    "        # Isto é, a média é um vetor que pode ser comparado com outros documentos para buscar uma similaridade.\n",
    "        # Vamos salvar esse vetor na lista de perfis para uso futuro.\n",
    "        perfis.append(media)\n",
    "\n",
    "    return perfis"
   ]
  },
  {
   "cell_type": "markdown",
   "metadata": {},
   "source": [
    "Com esta função, conseguimos gerar nossos perfis de usuários, dispondo das representações de itens `matriz_tfidf` e interações de usuários `avaliacoes`."
   ]
  },
  {
   "cell_type": "code",
   "execution_count": 8,
   "metadata": {},
   "outputs": [],
   "source": [
    "perfis = np.stack(np.array(gerar_perfis(matriz_tfidf, avaliacoes)))"
   ]
  },
  {
   "cell_type": "markdown",
   "metadata": {},
   "source": [
    "Com esses componentes, já conseguimos comparar perfis de usuários e representações de itens."
   ]
  },
  {
   "cell_type": "markdown",
   "metadata": {},
   "source": [
    "#### 5. Comparando Perfis e Representações"
   ]
  },
  {
   "cell_type": "markdown",
   "metadata": {},
   "source": [
    "Cada perfil consiste de um vetor com dimensionalidade igual aos vetores de representações de itens. Podemos utilizar a função de similaridade de vetores introduzida anteriormente:"
   ]
  },
  {
   "cell_type": "code",
   "execution_count": 9,
   "metadata": {},
   "outputs": [],
   "source": [
    "def calcular_similaridade(vetor1: np.ndarray, vetor2: np.ndarray) -> float:\n",
    "    \"\"\"\n",
    "    Calcula a similaridade entre dois vetores a partir do cosseno do ângulo entre\n",
    "    eles.\n",
    "\n",
    "    Args:\n",
    "        item1: numpy.ndarray do primeiro vetor\n",
    "        item2: numpy.ndarray do segundo vetor\n",
    "\n",
    "    Returns:\n",
    "        similaridade: float correspondendo a similaridade entre os dois vetores\n",
    "    \"\"\"\n",
    "\n",
    "    dot = np.dot(vetor1, vetor2)\n",
    "    \n",
    "    magnitude1 = np.linalg.norm(vetor1)\n",
    "    magnitude2 = np.linalg.norm(vetor2)\n",
    "\n",
    "    similaridade = dot / (magnitude1 * magnitude2)\n",
    "\n",
    "    return similaridade"
   ]
  },
  {
   "cell_type": "markdown",
   "metadata": {},
   "source": [
    "Por exemplo, a similaridade entre o perfil do usuário `0` e a representação do artigo `Activation function` pode ser calculada assim:"
   ]
  },
  {
   "cell_type": "code",
   "execution_count": 10,
   "metadata": {},
   "outputs": [
    {
     "name": "stdout",
     "output_type": "stream",
     "text": [
      "0.7255362555579096\n"
     ]
    }
   ],
   "source": [
    "perfil = perfis[0]\n",
    "representacao = matriz_tfidf.toarray()[0]\n",
    "\n",
    "similaridade = calcular_similaridade(perfil, representacao)\n",
    "print(similaridade)"
   ]
  },
  {
   "cell_type": "markdown",
   "metadata": {},
   "source": [
    "#### 6. Componente de Filtragem, Gerando Recomendações."
   ]
  },
  {
   "cell_type": "markdown",
   "metadata": {},
   "source": [
    "Vamos criar um componente de filtragem que pega o perfil de um usuário e retorna uma recomendação dispondo desta função de cálculo de similaridade e, claro, das nossas representações geradas."
   ]
  },
  {
   "cell_type": "code",
   "execution_count": 11,
   "metadata": {},
   "outputs": [],
   "source": [
    "def filtrar(perfil, representacoes):\n",
    "    \"\"\"\n",
    "    Dado um perfil de um usuário e representações de artigos Wikipedia em TF-IDF, retorna uma recomendação de um artigo baseado no perfil providenciado. \n",
    "\n",
    "    Params:\n",
    "        perfil: vetor do perfil do usuário.\n",
    "        representacoes: matriz tf-idf.\n",
    "    \n",
    "    Returns:\n",
    "        recomendacao: nome de um artigo recomendado para o usuário correspondente ao perfil.\n",
    "    \"\"\"\n",
    "    \n",
    "    # Calcular a similaridade de cada representação com o perfil providenciado.\n",
    "    similaridades = []\n",
    "    for r in representacoes:\n",
    "        similaridades.append(calcular_similaridade(perfil, r))\n",
    "    \n",
    "    # Pegar os índices dos artigos mais similares ao perfil do usuário.\n",
    "    sorted_indices = np.argsort(similaridades)[::-1]\n",
    "    \n",
    "    # Estaremos usando [2:3], pois os dois artigos mais favoritos de usuários foram utilizados durante a geração de perfis.\n",
    "    recomendacao = np.array(titulos)[sorted_indices[2:3]][0]\n",
    "\n",
    "    return recomendacao"
   ]
  },
  {
   "cell_type": "markdown",
   "metadata": {},
   "source": [
    "Podemos simplesmente chamar essa função para cada perfil de usuário."
   ]
  },
  {
   "cell_type": "code",
   "execution_count": 12,
   "metadata": {},
   "outputs": [
    {
     "name": "stdout",
     "output_type": "stream",
     "text": [
      "Recomendação de leitura para o usuário 0: AlexNet\n",
      "Recomendação de leitura para o usuário 1: AI winter\n",
      "Recomendação de leitura para o usuário 2: ACM Computing Surveys\n",
      "Recomendação de leitura para o usuário 3: AI safety\n",
      "Recomendação de leitura para o usuário 4: ACM Computing Classification System\n"
     ]
    }
   ],
   "source": [
    "for u in range(5):\n",
    "    print(f\"Recomendação de leitura para o usuário {u}: \", end=\"\")\n",
    "    print(filtrar(perfis[u], matriz_tfidf.toarray()))"
   ]
  }
 ],
 "metadata": {
  "kernelspec": {
   "display_name": "base",
   "language": "python",
   "name": "python3"
  },
  "language_info": {
   "codemirror_mode": {
    "name": "ipython",
    "version": 3
   },
   "file_extension": ".py",
   "mimetype": "text/x-python",
   "name": "python",
   "nbconvert_exporter": "python",
   "pygments_lexer": "ipython3",
   "version": "3.9.13"
  },
  "orig_nbformat": 4
 },
 "nbformat": 4,
 "nbformat_minor": 2
}
