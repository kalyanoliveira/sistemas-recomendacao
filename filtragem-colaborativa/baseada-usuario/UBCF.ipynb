{
 "cells": [
  {
   "cell_type": "markdown",
   "metadata": {},
   "source": [
    "### Implementação Básica de Filtragem Colaborativa baseada em Usuários"
   ]
  },
  {
   "cell_type": "markdown",
   "metadata": {},
   "source": [
    "Filtragem colaborativa é um processo oriundo de sistemas de recomendação, onde o objetivo é filtrar uma lista de itens para sugerir a um usuário o item mais \"relevante\" dessa lista.\n",
    "\n",
    "Itens são avaliados como \"relevante\" a partir de uma análise que busca por similaridades em um histórico de avaliações."
   ]
  },
  {
   "cell_type": "markdown",
   "metadata": {},
   "source": [
    "#### 1. Importação de Bibliotecas"
   ]
  },
  {
   "cell_type": "code",
   "execution_count": 1,
   "metadata": {},
   "outputs": [],
   "source": [
    "import numpy as np"
   ]
  },
  {
   "cell_type": "markdown",
   "metadata": {},
   "source": [
    "#### 2. Histórico de Avaliações"
   ]
  },
  {
   "cell_type": "markdown",
   "metadata": {},
   "source": [
    "Usaremos dados de um histórico de avaliações para os processos subsequentes.\n",
    "\n",
    "Para cada usuário, um array contém as avaliações daquele usuário para cada item de um catálogo:\n",
    "\n",
    "`usuario = [item0, item1, item2, item3, ...]`\n",
    "\n",
    "Caso um usuário não tenha avaliado um item, deixamos a avaliação como `0`."
   ]
  },
  {
   "cell_type": "code",
   "execution_count": 2,
   "metadata": {},
   "outputs": [],
   "source": [
    "NUM_USUARIOS = 4\n",
    "NUM_ITENS = 5\n",
    "\n",
    "usuario0 = [5, 1, 0, 2, 2]\n",
    "usuario1 = [1, 5, 2, 5, 5]\n",
    "usuario2 = [2, 0, 3, 5, 4]\n",
    "usuario3 = [4, 3, 5, 3, 0]\n"
   ]
  },
  {
   "cell_type": "markdown",
   "metadata": {},
   "source": [
    "Vamos transformar esses dados em uma matrix (um array 2D)."
   ]
  },
  {
   "cell_type": "code",
   "execution_count": 3,
   "metadata": {},
   "outputs": [],
   "source": [
    "avaliacoes = [usuario0, usuario1, usuario2, usuario3]\n",
    "\n",
    "matrix_avaliacoes = np.array(avaliacoes)"
   ]
  },
  {
   "cell_type": "code",
   "execution_count": 4,
   "metadata": {},
   "outputs": [
    {
     "name": "stdout",
     "output_type": "stream",
     "text": [
      "[[5 1 0 2 2]\n",
      " [1 5 2 5 5]\n",
      " [2 0 3 5 4]\n",
      " [4 3 5 3 0]]\n"
     ]
    }
   ],
   "source": [
    "print(matrix_avaliacoes)"
   ]
  },
  {
   "cell_type": "markdown",
   "metadata": {},
   "source": [
    "Cada linha dessa matrix contém um vetor de todas avaliações de um usuário.\n",
    "\n",
    "Podemos comparar esse vetores para ver o quão similar dois usuários são."
   ]
  },
  {
   "cell_type": "markdown",
   "metadata": {},
   "source": [
    "#### 3. Calculando a similaridade entre dois usuários."
   ]
  },
  {
   "cell_type": "markdown",
   "metadata": {},
   "source": [
    "Vamos definir uma função que pega dois usuários e retorna a similaridade entre eles."
   ]
  },
  {
   "cell_type": "code",
   "execution_count": 5,
   "metadata": {},
   "outputs": [],
   "source": [
    "def calcular_similaridade(vetor1: np.ndarray, vetor2: np.ndarray) -> float:\n",
    "    \"\"\"\n",
    "    Calcula a similaridade entre dois vetores a partir do coseno do ângulo entre\n",
    "    eles.\n",
    "\n",
    "    Args:\n",
    "        item1: numpy.ndarray do primeiro vetor\n",
    "        item2: numpy.ndarray do segundo vetor\n",
    "\n",
    "    Returns:\n",
    "        similaridade: float correspondendo a similaridade entre os dois vetores\n",
    "    \"\"\"\n",
    "\n",
    "    dot = np.dot(vetor1, vetor2)\n",
    "    \n",
    "    magnitude1 = np.linalg.norm(vetor1)\n",
    "    magnitude2 = np.linalg.norm(vetor2)\n",
    "\n",
    "    similaridade = dot / (magnitude1 * magnitude2)\n",
    "\n",
    "    return similaridade"
   ]
  },
  {
   "cell_type": "markdown",
   "metadata": {},
   "source": [
    "Com esses materiais, já conseguimos calcular a similaridade entre usuarios."
   ]
  },
  {
   "cell_type": "code",
   "execution_count": 6,
   "metadata": {},
   "outputs": [
    {
     "name": "stdout",
     "output_type": "stream",
     "text": [
      "Similaridade entre Usuários 0 e 0: 1\n",
      "Similaridade entre Usuários 0 e 1: 0.575\n",
      "Similaridade entre Usuários 0 e 2: 0.653\n",
      "Similaridade entre Usuários 0 e 3: 0.647\n",
      "Similaridade entre Usuários 1 e 0: 0.575\n",
      "Similaridade entre Usuários 1 e 1: 1\n",
      "Similaridade entre Usuários 1 e 2: 0.806\n",
      "Similaridade entre Usuários 1 e 3: 0.64\n",
      "Similaridade entre Usuários 2 e 0: 0.653\n",
      "Similaridade entre Usuários 2 e 1: 0.806\n",
      "Similaridade entre Usuários 2 e 2: 1\n",
      "Similaridade entre Usuários 2 e 3: 0.673\n",
      "Similaridade entre Usuários 3 e 0: 0.647\n",
      "Similaridade entre Usuários 3 e 1: 0.64\n",
      "Similaridade entre Usuários 3 e 2: 0.673\n",
      "Similaridade entre Usuários 3 e 3: 1\n"
     ]
    }
   ],
   "source": [
    "for i, usuario in enumerate(matrix_avaliacoes):\n",
    "    for j, outro_usuario in enumerate(matrix_avaliacoes):\n",
    "        sim = calcular_similaridade(usuario, outro_usuario)\n",
    "        print(f\"Similaridade entre Usuários {i} e {j}: {sim:.3g}\")"
   ]
  },
  {
   "cell_type": "markdown",
   "metadata": {},
   "source": [
    "#### 4. Matrix de Similaridades"
   ]
  },
  {
   "cell_type": "markdown",
   "metadata": {},
   "source": [
    "Podemos imaginar uma outra matrix Usuários X Usuários, denominada **\"Matrix de Similaridades\"**, para guardar esses dados de similaridades."
   ]
  },
  {
   "cell_type": "code",
   "execution_count": 7,
   "metadata": {},
   "outputs": [],
   "source": [
    "matrix_similaridades = np.empty(NUM_USUARIOS, dtype=np.ndarray)\n",
    "\n",
    "for i in range(NUM_USUARIOS):\n",
    "    similar = []\n",
    "\n",
    "    for j in range(NUM_USUARIOS):\n",
    "        similar.append(calcular_similaridade(matrix_avaliacoes[i], matrix_avaliacoes[j]))\n",
    "\n",
    "    matrix_similaridades[i] = np.array(similar)\n",
    "\n",
    "matrix_similaridades = np.stack(matrix_similaridades)"
   ]
  },
  {
   "cell_type": "code",
   "execution_count": 8,
   "metadata": {},
   "outputs": [
    {
     "name": "stdout",
     "output_type": "stream",
     "text": [
      "[[1.         0.57522374 0.65346404 0.64748921]\n",
      " [0.57522374 1.         0.80636932 0.64044476]\n",
      " [0.65346404 0.80636932 1.         0.67322574]\n",
      " [0.64748921 0.64044476 0.67322574 1.        ]]\n"
     ]
    }
   ],
   "source": [
    "print(matrix_similaridades)"
   ]
  },
  {
   "cell_type": "markdown",
   "metadata": {},
   "source": [
    "Outra maneira mais rápida de calcular essa matrix é a partir dessa linha de código:"
   ]
  },
  {
   "cell_type": "code",
   "execution_count": 9,
   "metadata": {},
   "outputs": [],
   "source": [
    "matrix_similaridades = np.dot(matrix_avaliacoes, matrix_avaliacoes.T) / (np.linalg.norm(matrix_avaliacoes, axis=1)[:, None] * np.linalg.norm(matrix_avaliacoes.T, axis=0))"
   ]
  },
  {
   "cell_type": "code",
   "execution_count": 10,
   "metadata": {},
   "outputs": [
    {
     "name": "stdout",
     "output_type": "stream",
     "text": [
      "[[1.         0.57522374 0.65346404 0.64748921]\n",
      " [0.57522374 1.         0.80636932 0.64044476]\n",
      " [0.65346404 0.80636932 1.         0.67322574]\n",
      " [0.64748921 0.64044476 0.67322574 1.        ]]\n"
     ]
    }
   ],
   "source": [
    "print(matrix_similaridades)"
   ]
  },
  {
   "cell_type": "markdown",
   "metadata": {},
   "source": [
    "Agora podemos utilizar essa matrix de similaridades para avaliar a utilidade de um item para um usuário."
   ]
  },
  {
   "cell_type": "markdown",
   "metadata": {},
   "source": [
    "#### 5. Avaliação de Utilidade"
   ]
  },
  {
   "cell_type": "markdown",
   "metadata": {},
   "source": [
    "Vamos definir uma função denominada \"Avaliar\" que pega um usuário e um item, e retorna a Utilidade daquele item para aquele usuário."
   ]
  },
  {
   "cell_type": "code",
   "execution_count": 11,
   "metadata": {},
   "outputs": [],
   "source": [
    "def avaliar(usuario: int, item: int) -> float:\n",
    "    \"\"\"\"\n",
    "    Dado um usuário e um item, retorna a utilidade daquele item para o usuário.\n",
    "\n",
    "    Args:\n",
    "        usuario: int do id do usuário\n",
    "        item: int do id do item\n",
    "        k: int do número de usuarios similares usados na comparação\n",
    "\n",
    "    Returns:\n",
    "        utilidade: float correspondente a previsão da utilidade/avaliação do \n",
    "                   item para o usuário\n",
    "    \"\"\"\n",
    "\n",
    "    # Número de usuários similares utilizados no cálculo da utilidade.\n",
    "    k = 2\n",
    "\n",
    "    # Primeiro pegamos o grau de similaridade de cada usuário com o usuário \n",
    "    # definido no argumento.\n",
    "    similaridades = matrix_similaridades[usuario]\n",
    "\n",
    "    # Agora precisamos obter o id dos k usuários mais similares ao usuário \n",
    "    # definido no argumento que avaliaram o item definido no argumento.\n",
    "\n",
    "    # Rankear todos usuários com base no grau de similaridade, e obter o id dos \n",
    "    # usuários mais similares.\n",
    "    usuarios_rankeados = list(np.argsort(similaridades)[::-1][1:])\n",
    "\n",
    "    # Para cada usuário, se ele não avaliou o item definido no argumento,\n",
    "    # remova-o da lista de usuários similares.\n",
    "    for index, usuario_rankeado in enumerate(usuarios_rankeados):\n",
    "        if matrix_avaliacoes[usuario_rankeado, item] == 0:\n",
    "            usuarios_rankeados.pop(index)\n",
    "\n",
    "    # Obter os k usuários mais similares que avaliaram o item definido \n",
    "    # no argumento.\n",
    "    usuarios_mais_similares = usuarios_rankeados[:k]\n",
    "\n",
    "    # Obter as avaliações desses usuários e o grau de similaridade de cada um.\n",
    "    avaliacoes_similares_do_item = matrix_avaliacoes[usuarios_mais_similares, item]\n",
    "    grau_similaridade = matrix_similaridades[usuario, usuarios_mais_similares]\n",
    "\n",
    "    # Fazer uma média ponderada das avaliações, onde os pesos são os graus \n",
    "    # de similaridade.\n",
    "    soma_ponderada = 0\n",
    "    for avaliacao, grau in zip(avaliacoes_similares_do_item, grau_similaridade):\n",
    "        soma_ponderada += grau * avaliacao \n",
    "    soma_pesos = sum(grau_similaridade)\n",
    "    media_ponderada = soma_ponderada / soma_pesos\n",
    "\n",
    "    # Definimos a utilidade como a média ponderada.\n",
    "    utilidade = media_ponderada\n",
    "\n",
    "    return utilidade"
   ]
  },
  {
   "cell_type": "markdown",
   "metadata": {},
   "source": [
    "Agora podemos avaliar a utilidade de cada item para cada usuário:"
   ]
  },
  {
   "cell_type": "code",
   "execution_count": 12,
   "metadata": {},
   "outputs": [
    {
     "name": "stdout",
     "output_type": "stream",
     "text": [
      "\n",
      "Avaliando item 0 para usuário 0: 3\n",
      "Avaliando item 1 para usuário 0: 3.94\n",
      "Avaliando item 2 para usuário 0: 4\n",
      "Avaliando item 3 para usuário 0: 4\n",
      "Avaliando item 4 para usuário 0: 4.47\n",
      "Avaliando item 0 para usuário 1: 2.89\n",
      "Avaliando item 1 para usuário 1: 2.05\n",
      "Avaliando item 2 para usuário 1: 3.89\n",
      "Avaliando item 3 para usuário 1: 4.11\n",
      "Avaliando item 4 para usuário 1: 3.17\n",
      "Avaliando item 0 para usuário 2: 2.37\n",
      "Avaliando item 1 para usuário 2: 4.09\n",
      "Avaliando item 2 para usuário 2: 3.37\n",
      "Avaliando item 3 para usuário 2: 4.09\n",
      "Avaliando item 4 para usuário 2: 3.66\n",
      "Avaliando item 0 para usuário 3: 3.47\n",
      "Avaliando item 1 para usuário 3: 2.99\n",
      "Avaliando item 2 para usuário 3: 2.51\n",
      "Avaliando item 3 para usuário 3: 3.53\n",
      "Avaliando item 4 para usuário 3: 3.02"
     ]
    }
   ],
   "source": [
    "for u in range(NUM_USUARIOS):\n",
    "    for i in range(NUM_ITENS):\n",
    "        print()\n",
    "        print(f\"Avaliando item {i} para usuário {u}: {avaliar(u, i):.3g}\", end=\"\")"
   ]
  },
  {
   "cell_type": "markdown",
   "metadata": {},
   "source": [
    "Vamos criar um ranqueamento dessas avaliações, e recomendar os itens mais bem ranqueados para cada usuário, dado que o usuário já não avaliou aquele item."
   ]
  },
  {
   "cell_type": "code",
   "execution_count": 13,
   "metadata": {},
   "outputs": [
    {
     "name": "stdout",
     "output_type": "stream",
     "text": [
      "Recomendações\n",
      "\n",
      "Usuário 0: Item 2\n",
      "Usuário 1: \n",
      "Usuário 2: Item 1\n",
      "Usuário 3: Item 4\n"
     ]
    }
   ],
   "source": [
    "recomendacoes = []\n",
    "\n",
    "for u in range(NUM_USUARIOS):\n",
    "    avaliacoes = []\n",
    "    for i in range(NUM_ITENS):\n",
    "        avaliacao = avaliar(u, i)\n",
    "        if matrix_avaliacoes[u, i] != 0:\n",
    "            continue\n",
    "        else:\n",
    "            avaliacoes.append((i, avaliacao))\n",
    "    \n",
    "    avaliacoes_ranqueadas = sorted(avaliacoes, key=(lambda x: x[1]))\n",
    "\n",
    "    recomendacoes.append((u, avaliacoes_ranqueadas))\n",
    "\n",
    "print(\"Recomendações\\n\")\n",
    "for recomendacao in recomendacoes:\n",
    "    print(f\"Usuário {recomendacao[0]}: \", end='')\n",
    "\n",
    "    if recomendacao[1]:\n",
    "        for i in recomendacao[1]:\n",
    "            print(f\"Item {i[0]}\", end='')\n",
    "    \n",
    "    print(\"\")"
   ]
  }
 ],
 "metadata": {
  "kernelspec": {
   "display_name": "base",
   "language": "python",
   "name": "python3"
  },
  "language_info": {
   "codemirror_mode": {
    "name": "ipython",
    "version": 3
   },
   "file_extension": ".py",
   "mimetype": "text/x-python",
   "name": "python",
   "nbconvert_exporter": "python",
   "pygments_lexer": "ipython3",
   "version": "3.9.13"
  },
  "orig_nbformat": 4
 },
 "nbformat": 4,
 "nbformat_minor": 2
}
