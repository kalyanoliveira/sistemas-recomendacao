{
 "cells": [
  {
   "cell_type": "markdown",
   "metadata": {},
   "source": [
    "### Implementação Básica de Filtragem Colaborativa baseada em Usuários"
   ]
  },
  {
   "cell_type": "markdown",
   "metadata": {},
   "source": [
    "Filtragem colaborativa é um processo oriundo de sistemas de recomendação, onde o objetivo é filtrar uma lista de itens para sugerir a um usuário o item mais \"relevante\" dessa lista.\n",
    "\n",
    "Itens são avaliados como \"relevante\" a partir de uma análise que busca por similaridades em um histórico de avaliações."
   ]
  },
  {
   "cell_type": "markdown",
   "metadata": {},
   "source": [
    "#### 1. Importação de Bibliotecas"
   ]
  },
  {
   "cell_type": "code",
   "execution_count": 1,
   "metadata": {},
   "outputs": [],
   "source": [
    "import numpy as np"
   ]
  },
  {
   "cell_type": "markdown",
   "metadata": {},
   "source": [
    "#### 2. Histórico de Avaliações"
   ]
  },
  {
   "cell_type": "markdown",
   "metadata": {},
   "source": [
    "Usaremos dados de um histórico de avaliações para os processos subsequentes.\n",
    "\n",
    "Para cada usuário, um array contém as avaliações daquele usuário para cada item de um catálogo:\n",
    "\n",
    "`usuario = [item0, item1, item2, item3, ...]`\n",
    "\n",
    "Caso um usuário não tenha avaliado um item, deixamos a avaliação como `0`."
   ]
  },
  {
   "cell_type": "code",
   "execution_count": 2,
   "metadata": {},
   "outputs": [],
   "source": [
    "NUM_USUARIOS = 6\n",
    "NUM_ITENS = 6\n",
    "\n",
    "usuario0 = [5, 3, 0, 4, 4, 0]\n",
    "usuario1 = [1, 0, 0, 3, 0, 0]\n",
    "usuario2 = [0, 0, 0, 1, 0, 0]\n",
    "usuario3 = [4, 0, 0, 5, 0, 2]\n",
    "usuario4 = [0, 0, 5, 4, 0, 1]\n",
    "usuario5 = [0, 0, 0, 0, 0, 0]"
   ]
  },
  {
   "cell_type": "markdown",
   "metadata": {},
   "source": [
    "Vamos transformar esses dados em uma matrix (um array 2D)."
   ]
  },
  {
   "cell_type": "code",
   "execution_count": 3,
   "metadata": {},
   "outputs": [],
   "source": [
    "avaliacoes = [usuario0, usuario1, usuario2, usuario3, usuario4, usuario5]\n",
    "\n",
    "matrix_avaliacoes = np.array(avaliacoes)"
   ]
  },
  {
   "cell_type": "code",
   "execution_count": 4,
   "metadata": {},
   "outputs": [
    {
     "name": "stdout",
     "output_type": "stream",
     "text": [
      "[[5 3 0 4 4 0]\n",
      " [1 0 0 3 0 0]\n",
      " [0 0 0 1 0 0]\n",
      " [4 0 0 5 0 2]\n",
      " [0 0 5 4 0 1]\n",
      " [0 0 0 0 0 0]]\n"
     ]
    }
   ],
   "source": [
    "print(matrix_avaliacoes)"
   ]
  },
  {
   "cell_type": "markdown",
   "metadata": {},
   "source": [
    "Cada linha dessa matrix contém um vetor de todas avaliações de um usuário.\n",
    "\n",
    "Podemos comparar esse vetores para ver o quão similar dois usuários são."
   ]
  },
  {
   "cell_type": "markdown",
   "metadata": {},
   "source": [
    "#### 3. Calculando a similaridade entre dois usuários."
   ]
  },
  {
   "cell_type": "markdown",
   "metadata": {},
   "source": [
    "Vamos definir uma função que pega dois usuários e retorna a similaridade entre eles."
   ]
  },
  {
   "cell_type": "code",
   "execution_count": 5,
   "metadata": {},
   "outputs": [],
   "source": [
    "def calcular_similaridade(vetor1: np.ndarray, vetor2: np.ndarray) -> float:\n",
    "    \"\"\"\n",
    "    Calcula a similaridade entre dois vetores a partir do coseno do ângulo entre\n",
    "    eles.\n",
    "\n",
    "    Args:\n",
    "        item1: numpy.ndarray do primeiro vetor\n",
    "        item2: numpy.ndarray do segundo vetor\n",
    "\n",
    "    Returns:\n",
    "        similaridade: float correspondendo a similaridade entre os dois vetores\n",
    "    \"\"\"\n",
    "\n",
    "    dot = np.dot(vetor1, vetor2)\n",
    "    \n",
    "    magnitude1 = np.linalg.norm(vetor1)\n",
    "    magnitude2 = np.linalg.norm(vetor2)\n",
    "\n",
    "    similaridade = dot / (magnitude1 * magnitude2)\n",
    "\n",
    "    return similaridade"
   ]
  },
  {
   "cell_type": "markdown",
   "metadata": {},
   "source": [
    "Com esses materiais, já conseguimos calcular a similaridade entre usuarios."
   ]
  },
  {
   "cell_type": "code",
   "execution_count": 6,
   "metadata": {},
   "outputs": [
    {
     "name": "stdout",
     "output_type": "stream",
     "text": [
      "Similaridade entre Usuários 0 e 0: 1\n",
      "Similaridade entre Usuários 0 e 1: 0.662\n",
      "Similaridade entre Usuários 0 e 2: 0.492\n",
      "Similaridade entre Usuários 0 e 3: 0.734\n",
      "Similaridade entre Usuários 0 e 4: 0.304\n",
      "Similaridade entre Usuários 0 e 5: nan\n",
      "Similaridade entre Usuários 1 e 0: 0.662\n",
      "Similaridade entre Usuários 1 e 1: 1\n",
      "Similaridade entre Usuários 1 e 2: 0.949\n",
      "Similaridade entre Usuários 1 e 3: 0.896\n",
      "Similaridade entre Usuários 1 e 4: 0.586\n",
      "Similaridade entre Usuários 1 e 5: nan\n",
      "Similaridade entre Usuários 2 e 0: 0.492\n",
      "Similaridade entre Usuários 2 e 1: 0.949\n",
      "Similaridade entre Usuários 2 e 2: 1\n",
      "Similaridade entre Usuários 2 e 3: 0.745\n",
      "Similaridade entre Usuários 2 e 4: 0.617\n",
      "Similaridade entre Usuários 2 e 5: nan\n",
      "Similaridade entre Usuários 3 e 0: 0.734\n",
      "Similaridade entre Usuários 3 e 1: 0.896\n",
      "Similaridade entre Usuários 3 e 2: 0.745\n",
      "Similaridade entre Usuários 3 e 3: 1\n",
      "Similaridade entre Usuários 3 e 4: 0.506\n",
      "Similaridade entre Usuários 3 e 5: nan\n",
      "Similaridade entre Usuários 4 e 0: 0.304\n",
      "Similaridade entre Usuários 4 e 1: 0.586\n",
      "Similaridade entre Usuários 4 e 2: 0.617\n",
      "Similaridade entre Usuários 4 e 3: 0.506\n",
      "Similaridade entre Usuários 4 e 4: 1\n",
      "Similaridade entre Usuários 4 e 5: nan\n",
      "Similaridade entre Usuários 5 e 0: nan\n",
      "Similaridade entre Usuários 5 e 1: nan\n",
      "Similaridade entre Usuários 5 e 2: nan\n",
      "Similaridade entre Usuários 5 e 3: nan\n",
      "Similaridade entre Usuários 5 e 4: nan\n",
      "Similaridade entre Usuários 5 e 5: nan\n"
     ]
    },
    {
     "name": "stderr",
     "output_type": "stream",
     "text": [
      "/tmp/ipykernel_1493/2408305389.py:19: RuntimeWarning: invalid value encountered in true_divide\n",
      "  similaridade = dot / (magnitude1 * magnitude2)\n"
     ]
    }
   ],
   "source": [
    "for i, usuario in enumerate(matrix_avaliacoes):\n",
    "    for j, outro_usuario in enumerate(matrix_avaliacoes):\n",
    "        sim = calcular_similaridade(usuario, outro_usuario)\n",
    "        print(f\"Similaridade entre Usuários {i} e {j}: {sim:.3g}\")"
   ]
  },
  {
   "cell_type": "markdown",
   "metadata": {},
   "source": [
    "#### 4. Matrix de Similaridades"
   ]
  },
  {
   "cell_type": "markdown",
   "metadata": {},
   "source": [
    "Podemos imaginar uma outra matrix Usuários X Usuários, denominada **\"Matrix de Similaridades\"**, para guardar esses dados de similaridades."
   ]
  },
  {
   "cell_type": "code",
   "execution_count": 7,
   "metadata": {},
   "outputs": [
    {
     "name": "stderr",
     "output_type": "stream",
     "text": [
      "/tmp/ipykernel_1493/2408305389.py:19: RuntimeWarning: invalid value encountered in true_divide\n",
      "  similaridade = dot / (magnitude1 * magnitude2)\n"
     ]
    }
   ],
   "source": [
    "matrix_similaridades = np.empty(NUM_USUARIOS, dtype=np.ndarray)\n",
    "\n",
    "for i in range(NUM_USUARIOS):\n",
    "    similar = []\n",
    "\n",
    "    for j in range(NUM_USUARIOS):\n",
    "        similar.append(calcular_similaridade(matrix_avaliacoes[i], matrix_avaliacoes[j]))\n",
    "\n",
    "    matrix_similaridades[i] = np.array(similar)\n",
    "\n",
    "matrix_similaridades = np.stack(matrix_similaridades)"
   ]
  },
  {
   "cell_type": "code",
   "execution_count": 8,
   "metadata": {},
   "outputs": [
    {
     "name": "stdout",
     "output_type": "stream",
     "text": [
      "[[1.         0.6617241  0.49236596 0.73397584 0.30389487        nan]\n",
      " [0.6617241  1.         0.9486833  0.89566859 0.58554004        nan]\n",
      " [0.49236596 0.9486833  1.         0.74535599 0.6172134         nan]\n",
      " [0.73397584 0.89566859 0.74535599 1.         0.50604808        nan]\n",
      " [0.30389487 0.58554004 0.6172134  0.50604808 1.                nan]\n",
      " [       nan        nan        nan        nan        nan        nan]]\n"
     ]
    }
   ],
   "source": [
    "print(matrix_similaridades)"
   ]
  },
  {
   "cell_type": "markdown",
   "metadata": {},
   "source": [
    "Outra maneira mais rápida de calcular essa matrix é a partir dessa linha de código:"
   ]
  },
  {
   "cell_type": "code",
   "execution_count": 9,
   "metadata": {},
   "outputs": [
    {
     "name": "stderr",
     "output_type": "stream",
     "text": [
      "/tmp/ipykernel_1493/786230641.py:1: RuntimeWarning: invalid value encountered in true_divide\n",
      "  matrix_similaridades = np.dot(matrix_avaliacoes, matrix_avaliacoes.T) / (np.linalg.norm(matrix_avaliacoes, axis=1)[:, None] * np.linalg.norm(matrix_avaliacoes.T, axis=0))\n"
     ]
    }
   ],
   "source": [
    "matrix_similaridades = np.dot(matrix_avaliacoes, matrix_avaliacoes.T) / (np.linalg.norm(matrix_avaliacoes, axis=1)[:, None] * np.linalg.norm(matrix_avaliacoes.T, axis=0))"
   ]
  },
  {
   "cell_type": "code",
   "execution_count": 10,
   "metadata": {},
   "outputs": [
    {
     "name": "stdout",
     "output_type": "stream",
     "text": [
      "[[1.         0.6617241  0.49236596 0.73397584 0.30389487        nan]\n",
      " [0.6617241  1.         0.9486833  0.89566859 0.58554004        nan]\n",
      " [0.49236596 0.9486833  1.         0.74535599 0.6172134         nan]\n",
      " [0.73397584 0.89566859 0.74535599 1.         0.50604808        nan]\n",
      " [0.30389487 0.58554004 0.6172134  0.50604808 1.                nan]\n",
      " [       nan        nan        nan        nan        nan        nan]]\n"
     ]
    }
   ],
   "source": [
    "print(matrix_similaridades)"
   ]
  },
  {
   "cell_type": "markdown",
   "metadata": {},
   "source": [
    "Agora podemos utilizar essa matrix de similaridades para avaliar a utilidade de um item para um usuário."
   ]
  },
  {
   "cell_type": "markdown",
   "metadata": {},
   "source": [
    "#### 5. Avaliação de Utilidade"
   ]
  },
  {
   "cell_type": "markdown",
   "metadata": {},
   "source": [
    "Vamos definir uma função denominada \"Avaliar\" que pega um usuário e um item, e retorna a Utilidade daquele item para aquele usuário."
   ]
  },
  {
   "cell_type": "code",
   "execution_count": 11,
   "metadata": {},
   "outputs": [],
   "source": [
    "def avaliar(usuario: int, item: int) -> float:\n",
    "    \"\"\"\"\n",
    "    Dado um usuário e um item, retorna a utilidade daquele item para o usuário.\n",
    "\n",
    "    Args:\n",
    "        usuario: int do id do usuário\n",
    "        item: int do id do item\n",
    "        k: int do número de usuarios similares usados na comparação\n",
    "\n",
    "    Returns:\n",
    "        utilidade: float correspondente a previsão da utilidade/avaliação do \n",
    "                   item para o usuário\n",
    "    \"\"\"\n",
    "\n",
    "    # Número de usuários similares utilizados no cálculo da utilidade.\n",
    "    k = 2\n",
    "\n",
    "    # Primeiro, pegamos o grau de similaridade de cada usuário com o usuário \n",
    "    # definido no argumento.\n",
    "    similaridades = matrix_similaridades[usuario]\n",
    "\n",
    "    # Agora precisamos obter o id dos k usuários mais similares ao usuário \n",
    "    # definido no argumento que avaliaram o item definido no argumento.\n",
    "\n",
    "    # Rankear todos usuários com base no grau de similaridade, e obter o id dos \n",
    "    # usuários rankeados.\n",
    "    usuarios_rankeados = list(np.argsort(similaridades)[::-1][1:])\n",
    "\n",
    "    # Para cada usuário, se ele não avaliou o item definido no argumento,\n",
    "    # remova-o da lista de usuários similares.\n",
    "    for index, usuario_rankeado in enumerate(usuarios_rankeados):\n",
    "        if matrix_avaliacoes[usuario_rankeado, item] == 0:\n",
    "            usuarios_rankeados.pop(index)\n",
    "\n",
    "    # Obter os k usuários mais similares que avaliaram o item definido \n",
    "    # no argumento.\n",
    "    usuarios_mais_similares = usuarios_rankeados[:k]\n",
    "\n",
    "    # Obter as avaliações desses usuários e o grau de similaridade de cada um.\n",
    "    avaliacoes_similares_do_item = matrix_avaliacoes[usuarios_mais_similares, item]\n",
    "    grau_similaridade = matrix_similaridades[usuario, usuarios_mais_similares]\n",
    "\n",
    "    # Fazer uma média ponderada das avaliações, onde os pesos são os graus \n",
    "    # de similaridade.\n",
    "    soma_ponderada = 0\n",
    "    for avaliacao, grau in zip(avaliacoes_similares_do_item, grau_similaridade):\n",
    "        soma_ponderada += grau * avaliacao \n",
    "    soma_pesos = sum(grau_similaridade)\n",
    "    media_ponderada = soma_ponderada / soma_pesos\n",
    "\n",
    "    # Definimos a utilidade como a média ponderada.\n",
    "    utilidade = media_ponderada\n",
    "\n",
    "    return utilidade"
   ]
  },
  {
   "cell_type": "markdown",
   "metadata": {},
   "source": [
    "Agora podemos avaliar a utilidade de cada item para cada usuário:"
   ]
  },
  {
   "cell_type": "code",
   "execution_count": 12,
   "metadata": {},
   "outputs": [
    {
     "name": "stdout",
     "output_type": "stream",
     "text": [
      "\n",
      "Avaliando item 0 para usuário 0: 4.58\n",
      "Avaliando item 1 para usuário 0: 1.81\n",
      "Avaliando item 2 para usuário 0: 0\n",
      "Avaliando item 3 para usuário 0: 4.42\n",
      "Avaliando item 4 para usuário 0: 2.41\n",
      "Avaliando item 5 para usuário 0: 1.2\n",
      "Avaliando item 0 para usuário 1: 2.42\n",
      "Avaliando item 1 para usuário 1: 1.23\n",
      "Avaliando item 2 para usuário 1: 0\n",
      "Avaliando item 3 para usuário 1: 2.03\n",
      "Avaliando item 4 para usuário 1: 1.64\n",
      "Avaliando item 5 para usuário 1: 0.971\n",
      "Avaliando item 0 para usuário 2: 2.32\n",
      "Avaliando item 1 para usuário 2: 0\n",
      "Avaliando item 2 para usuário 2: 1.97\n",
      "Avaliando item 3 para usuário 2: 1.97\n",
      "Avaliando item 4 para usuário 2: 0\n",
      "Avaliando item 5 para usuário 2: 0.88\n",
      "Avaliando item 0 para usuário 3: 2.58\n",
      "Avaliando item 1 para usuário 3: 1.35\n",
      "Avaliando item 2 para usuário 3: 0\n",
      "Avaliando item 3 para usuário 3: 4.06\n",
      "Avaliando item 4 para usuário 3: 1.8\n",
      "Avaliando item 5 para usuário 3: 1.15\n",
      "Avaliando item 0 para usuário 4: 0.487\n",
      "Avaliando item 1 para usuário 4: 0\n",
      "Avaliando item 2 para usuário 4: 3.15\n",
      "Avaliando item 3 para usuário 4: 2.86\n",
      "Avaliando item 4 para usuário 4: 0\n",
      "Avaliando item 5 para usuário 4: 0.631\n",
      "Avaliando item 0 para usuário 5: nan\n",
      "Avaliando item 1 para usuário 5: nan\n",
      "Avaliando item 2 para usuário 5: nan\n",
      "Avaliando item 3 para usuário 5: nan\n",
      "Avaliando item 4 para usuário 5: nan\n",
      "Avaliando item 5 para usuário 5: nan"
     ]
    }
   ],
   "source": [
    "for u in range(NUM_USUARIOS):\n",
    "    for i in range(NUM_ITENS):\n",
    "        print()\n",
    "        print(f\"Avaliando item {i} para usuário {u}: {avaliar(u, i):.3g}\", end=\"\")"
   ]
  },
  {
   "cell_type": "markdown",
   "metadata": {},
   "source": [
    "#### 6. Gerando Recomendações"
   ]
  },
  {
   "cell_type": "markdown",
   "metadata": {},
   "source": [
    "Vamos criar um ranqueamento dessas avaliações, e recomendar os itens mais bem ranqueados e desconhecidos pelos usuários. Um item desconhecido é um item que o usuário ainda não avaliou."
   ]
  },
  {
   "cell_type": "code",
   "execution_count": 13,
   "metadata": {},
   "outputs": [
    {
     "name": "stdout",
     "output_type": "stream",
     "text": [
      "Recomendações rankeadas\n",
      "\n",
      "Usuário 0: Item 2 Item 5 \n",
      "Usuário 1: Item 2 Item 5 \n",
      "Usuário 2: Item 1 Item 4 \n",
      "Usuário 3: Item 2 Item 1 \n",
      "Usuário 4: Item 1 Item 4 \n",
      "Usuário 5: Item 0 Item 1 \n"
     ]
    }
   ],
   "source": [
    "recomendacoes = []\n",
    "\n",
    "for u in range(NUM_USUARIOS):\n",
    "    avaliacoes = []\n",
    "    for i in range(NUM_ITENS):\n",
    "        avaliacao = avaliar(u, i)\n",
    "        if matrix_avaliacoes[u, i] != 0:\n",
    "            continue\n",
    "        else:\n",
    "            avaliacoes.append((i, avaliacao))\n",
    "    \n",
    "    avaliacoes_ranqueadas = sorted(avaliacoes, key=(lambda x: x[1]))\n",
    "\n",
    "    recomendacoes.append((u, avaliacoes_ranqueadas))\n",
    "\n",
    "print(\"Recomendações rankeadas\\n\")\n",
    "for recomendacao in recomendacoes:\n",
    "    print(f\"Usuário {recomendacao[0]}: \", end='')\n",
    "\n",
    "    if recomendacao[1]:\n",
    "        for i in range(2):\n",
    "            print(f\"Item {recomendacao[1][i][0]} \", end='')\n",
    "    \n",
    "    print(\"\")"
   ]
  }
 ],
 "metadata": {
  "kernelspec": {
   "display_name": "base",
   "language": "python",
   "name": "python3"
  },
  "language_info": {
   "codemirror_mode": {
    "name": "ipython",
    "version": 3
   },
   "file_extension": ".py",
   "mimetype": "text/x-python",
   "name": "python",
   "nbconvert_exporter": "python",
   "pygments_lexer": "ipython3",
   "version": "3.9.13"
  },
  "orig_nbformat": 4
 },
 "nbformat": 4,
 "nbformat_minor": 2
}
