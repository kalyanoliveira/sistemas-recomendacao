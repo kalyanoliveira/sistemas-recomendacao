{
 "cells": [
  {
   "cell_type": "markdown",
   "metadata": {},
   "source": [
    "### Implementação de Filtragem Colaborativa com Bibliotecas"
   ]
  },
  {
   "cell_type": "markdown",
   "metadata": {},
   "source": [
    "Filtragem colaborativa é um processo oriundo de sistemas de recomendação, onde o objetivo é filtrar uma lista de itens para sugerir a um usuário o item mais \"relevante\" dessa lista.\n",
    "\n",
    "Itens são avaliados como \"relevante\" a partir de uma análise que busca por similaridades em um histórico de avaliações.\n",
    "\n",
    "Aqui, implementamos Filtragem Colaborativa a partir da biblioteca `Surprise`, do Python."
   ]
  },
  {
   "cell_type": "markdown",
   "metadata": {},
   "source": [
    "#### 1. Importação de Bibliotecas"
   ]
  },
  {
   "cell_type": "code",
   "execution_count": 1,
   "metadata": {},
   "outputs": [],
   "source": [
    "from surprise import Dataset, Reader, KNNBasic, dump\n",
    "from surprise.model_selection import cross_validate\n",
    "\n",
    "from collections import defaultdict\n",
    "\n",
    "import numpy as np\n",
    "import pandas as pd"
   ]
  },
  {
   "cell_type": "markdown",
   "metadata": {},
   "source": [
    "#### 2. Histórico de Avaliações"
   ]
  },
  {
   "cell_type": "markdown",
   "metadata": {},
   "source": [
    "Usaremos dados de um histórico de avaliações para os processos subsequentes.\n",
    "\n",
    "Esses dados serão armazenados em uma tabela (`pandas DataFrame`), onde cada linha é uma avaliação, e as colunas são `\"usuario\"`, `\"item\"`, e `\"avaliacao\"`."
   ]
  },
  {
   "cell_type": "code",
   "execution_count": 2,
   "metadata": {},
   "outputs": [],
   "source": [
    "avaliacoes = pd.DataFrame({\n",
    "    \"usuario\": [0, 0, 0, 0, 1, 1, 2, 3, 3, 3, 4, 4, 4],\n",
    "    \"item\": [0, 1, 3, 4, 0, 3, 3, 0, 3, 5, 2, 3, 5],\n",
    "    \"avaliacao\": [5, 3, 4, 4, 1, 3, 1, 4, 5, 2, 5, 4, 1],\n",
    "})"
   ]
  },
  {
   "cell_type": "code",
   "execution_count": 3,
   "metadata": {},
   "outputs": [
    {
     "name": "stdout",
     "output_type": "stream",
     "text": [
      "    usuario  item  avaliacao\n",
      "0         0     0          5\n",
      "1         0     1          3\n",
      "2         0     3          4\n",
      "3         0     4          4\n",
      "4         1     0          1\n",
      "5         1     3          3\n",
      "6         2     3          1\n",
      "7         3     0          4\n",
      "8         3     3          5\n",
      "9         3     5          2\n",
      "10        4     2          5\n",
      "11        4     3          4\n",
      "12        4     5          1\n"
     ]
    }
   ],
   "source": [
    "print(avaliacoes)"
   ]
  },
  {
   "cell_type": "markdown",
   "metadata": {},
   "source": [
    "Note que os dados acima são idênticos aos utilizados durante a implementação básica de filtragem colaborativa.\n",
    "\n",
    "O usuário 5, presente na implementação básica de filtragem colaborativa, não aparece aqui. Isso se deve ao fato de que ele não tinha avaliado nenhum item. Essa é uma peculiaridade de sistemas de recomendação colaborativos: usuários que não contribuem para o histórico de avaliações são excluídos do sistema."
   ]
  },
  {
   "cell_type": "markdown",
   "metadata": {},
   "source": [
    "#### 3. Criando o objeto da Estrutura de Dados de Avaliações do Surprise"
   ]
  },
  {
   "cell_type": "markdown",
   "metadata": {},
   "source": [
    "Agora, vamos criar a estrutura de dados de avaliações principal utilizada pelo Surprise. \n",
    "\n",
    "Primeiro, precisamos criar um objeto `Reader` (*Leitor*, do Inglês) para ler a nossa `pandas DataFrame`. Passamos `rating_scale=(1, 5)` como argumento para informar o Surprise que nossas avaliações variam de `1` a `5`."
   ]
  },
  {
   "cell_type": "code",
   "execution_count": 4,
   "metadata": {},
   "outputs": [],
   "source": [
    "leitor = Reader(rating_scale=(1, 5))"
   ]
  },
  {
   "cell_type": "markdown",
   "metadata": {},
   "source": [
    "Já conseguimos criar a estrutura de dados `Dataset` do Surprise a partir da linha abaixo:"
   ]
  },
  {
   "cell_type": "code",
   "execution_count": 5,
   "metadata": {},
   "outputs": [],
   "source": [
    "dados = Dataset.load_from_df(avaliacoes, leitor)"
   ]
  },
  {
   "cell_type": "code",
   "execution_count": 6,
   "metadata": {},
   "outputs": [
    {
     "name": "stdout",
     "output_type": "stream",
     "text": [
      "<surprise.dataset.DatasetAutoFolds object at 0x7f1ab2c75f70>\n"
     ]
    }
   ],
   "source": [
    "print(dados)"
   ]
  },
  {
   "cell_type": "markdown",
   "metadata": {},
   "source": [
    "#### 4. Criando o Conjunto de Dados para Treinamento"
   ]
  },
  {
   "cell_type": "markdown",
   "metadata": {},
   "source": [
    "Até agora, temos um objeto que armazena as nossas avaliações em um formato que o Surprise entende. Precisamos usar esses dados para treinar um modelo do Surprise. Uma vez treinado, o modelo tem a capacidade de avaliar a utilidade de cada item para cada usuário, e portanto gerar recomendações.\n",
    "\n",
    "Podemos escolher quantos dados da totalidade de dados armazenados em nosso objeto serão utilizados durante esse treinamento. Como são poucos, podemos escolher *todos* os dados disponíveis sem custos computacionais caros.\n",
    "\n",
    "Para criar um Conjunto de Dados para Treinamento que dispõe de todos os dados de avaliações disponíveis, podemos utilizar a linha abaixo:"
   ]
  },
  {
   "cell_type": "code",
   "execution_count": 7,
   "metadata": {},
   "outputs": [],
   "source": [
    "conjunto_dados_treinamento = dados.build_full_trainset()"
   ]
  },
  {
   "cell_type": "markdown",
   "metadata": {},
   "source": [
    "#### 5. Criando e Treinando o Modelo"
   ]
  },
  {
   "cell_type": "markdown",
   "metadata": {},
   "source": [
    "Para treinar nosso modelo (e, eventualmente, obter a capacidade de avaliar a utilidade de cada item para cada usuário), primeiro precisamos escolher o algoritmo por trás dele.\n",
    "\n",
    "Em filtragem colaborativa, esse algoritmo é chamado de `KNN`: *k Nearest-Neighbors*, que significa \"k Vizinhos Mais Próximos\", ou \"Mais Similares\".\n",
    "\n",
    "A intuição por trás desse algoritmo é a mesma que da implementação básica discutida anteriormente: estamos procurando por similaridades entre usuários/itens, e dispondo dessas informações para calcular utilidades.\n",
    "\n",
    "Podemos especificar o método de calculo da similaridade entre usuários e se o algoritmo será baseado em itens ou usuários a partir de um dicionário. Aqui, estamos usando filtragem colaborativa baseada em usuários, e comparando usuários com de similaridade de coseno:"
   ]
  },
  {
   "cell_type": "code",
   "execution_count": 8,
   "metadata": {},
   "outputs": [],
   "source": [
    "configuracoes = {\n",
    "    \"name\": \"cosine\",\n",
    "    \"user_based\": True,\n",
    "}"
   ]
  },
  {
   "cell_type": "markdown",
   "metadata": {},
   "source": [
    "Passamos essas configurações para a classe `KNNBasic` quando quisermos criar um objeto de nosso algoritmo na forma do argumento `sim_options=configuracoes`:"
   ]
  },
  {
   "cell_type": "code",
   "execution_count": 9,
   "metadata": {},
   "outputs": [],
   "source": [
    "algoritmo = KNNBasic(sim_options=configuracoes)"
   ]
  },
  {
   "cell_type": "markdown",
   "metadata": {},
   "source": [
    "Para treinar nosso algoritmo em nosso conjunto de dados para treinamento (que, novamente, neste caso é o conjunto de *todos* os dados de avaliações disponíveis), basta utilizar o método `fit` do objeto, passando o `conjunto_dados_treinamento` como argumento:"
   ]
  },
  {
   "cell_type": "code",
   "execution_count": 10,
   "metadata": {},
   "outputs": [
    {
     "name": "stdout",
     "output_type": "stream",
     "text": [
      "Computing the cosine similarity matrix...\n",
      "Done computing similarity matrix.\n"
     ]
    },
    {
     "data": {
      "text/plain": [
       "<surprise.prediction_algorithms.knns.KNNBasic at 0x7f1ab2c759a0>"
      ]
     },
     "execution_count": 10,
     "metadata": {},
     "output_type": "execute_result"
    }
   ],
   "source": [
    "algoritmo.fit(conjunto_dados_treinamento)"
   ]
  },
  {
   "cell_type": "markdown",
   "metadata": {},
   "source": [
    "#### 6. Avaliando a Utilidade"
   ]
  },
  {
   "cell_type": "markdown",
   "metadata": {},
   "source": [
    "Para obter, por exemplo, uma estimativa da avaliação que o usuário 1 daria ao item 2 - obter a *utilidade* daquele item para aquele usuário - podemos simplesmente utilizar o método `predict` do objeto `algoritmo`. Estamos efetivamente *testando* nosso modelo para um caso específico."
   ]
  },
  {
   "cell_type": "code",
   "execution_count": 11,
   "metadata": {},
   "outputs": [
    {
     "data": {
      "text/plain": [
       "Prediction(uid=1, iid=2, r_ui=None, est=5, details={'actual_k': 1, 'was_impossible': False})"
      ]
     },
     "execution_count": 11,
     "metadata": {},
     "output_type": "execute_result"
    }
   ],
   "source": [
    "algoritmo.predict(uid=1, iid=2)"
   ]
  },
  {
   "cell_type": "markdown",
   "metadata": {},
   "source": [
    "O resultado aparece em `est`; podemos ver que nosso algoritmo de filtragem colaborativa baseada em usuários e com similaridade de coseno prevê uma utilidade de 5/5 do item 2 para o usuário 1."
   ]
  },
  {
   "cell_type": "markdown",
   "metadata": {},
   "source": [
    "Vamos repetir isso para cada usuário - estaremos testando *manualmente* o nosso modelo para cada usuário. Irei re-introduzir a matrix de avaliações, apenas para incluir uma avaliação real ao lado de cada estimativa do nosso modelo."
   ]
  },
  {
   "cell_type": "code",
   "execution_count": 12,
   "metadata": {},
   "outputs": [],
   "source": [
    "matrix_avaliacoes = np.array([[5, 3, 0, 4, 4, 0],[1, 0, 0, 3, 0, 0],[0, 0, 0, 1, 0, 0],[4, 0, 0, 5, 0, 2],[0, 0, 5, 4, 0, 1]])"
   ]
  },
  {
   "cell_type": "markdown",
   "metadata": {},
   "source": [
    "Abaixo, cada linha contém uma estimativa da avaliação/utilidade de um `item` para um `user`, nomeadamente `\"est\"`. \n",
    "\n",
    "`\"r_ui\"` representa a avaliação *real* que um usuário deu a um item; caso o usuário não tenha avaliado um item, o valor de `\"r_ui\"` será `0`."
   ]
  },
  {
   "cell_type": "code",
   "execution_count": 13,
   "metadata": {},
   "outputs": [
    {
     "name": "stdout",
     "output_type": "stream",
     "text": [
      "user: 0          item: 0          r_ui = 5.00   est = 3.46   {'actual_k': 3, 'was_impossible': False}\n",
      "user: 0          item: 1          r_ui = 3.00   est = 3.00   {'actual_k': 1, 'was_impossible': False}\n",
      "user: 0          item: 2          r_ui = 0.00   est = 5.00   {'actual_k': 1, 'was_impossible': False}\n",
      "user: 0          item: 3          r_ui = 4.00   est = 3.41   {'actual_k': 5, 'was_impossible': False}\n",
      "user: 0          item: 4          r_ui = 4.00   est = 4.00   {'actual_k': 1, 'was_impossible': False}\n",
      "user: 0          item: 5          r_ui = 0.00   est = 1.49   {'actual_k': 2, 'was_impossible': False}\n",
      "user: 1          item: 0          r_ui = 1.00   est = 3.22   {'actual_k': 3, 'was_impossible': False}\n",
      "user: 1          item: 1          r_ui = 0.00   est = 3.00   {'actual_k': 1, 'was_impossible': False}\n",
      "user: 1          item: 2          r_ui = 0.00   est = 5.00   {'actual_k': 1, 'was_impossible': False}\n",
      "user: 1          item: 3          r_ui = 3.00   est = 3.36   {'actual_k': 5, 'was_impossible': False}\n",
      "user: 1          item: 4          r_ui = 0.00   est = 4.00   {'actual_k': 1, 'was_impossible': False}\n",
      "user: 1          item: 5          r_ui = 0.00   est = 1.48   {'actual_k': 2, 'was_impossible': False}\n",
      "user: 2          item: 0          r_ui = 0.00   est = 3.33   {'actual_k': 3, 'was_impossible': False}\n",
      "user: 2          item: 1          r_ui = 0.00   est = 3.00   {'actual_k': 1, 'was_impossible': False}\n",
      "user: 2          item: 2          r_ui = 0.00   est = 5.00   {'actual_k': 1, 'was_impossible': False}\n",
      "user: 2          item: 3          r_ui = 1.00   est = 3.40   {'actual_k': 5, 'was_impossible': False}\n",
      "user: 2          item: 4          r_ui = 0.00   est = 4.00   {'actual_k': 1, 'was_impossible': False}\n",
      "user: 2          item: 5          r_ui = 0.00   est = 1.50   {'actual_k': 2, 'was_impossible': False}\n",
      "user: 3          item: 0          r_ui = 4.00   est = 3.37   {'actual_k': 3, 'was_impossible': False}\n",
      "user: 3          item: 1          r_ui = 0.00   est = 3.00   {'actual_k': 1, 'was_impossible': False}\n",
      "user: 3          item: 2          r_ui = 0.00   est = 5.00   {'actual_k': 1, 'was_impossible': False}\n",
      "user: 3          item: 3          r_ui = 5.00   est = 3.40   {'actual_k': 5, 'was_impossible': False}\n",
      "user: 3          item: 4          r_ui = 0.00   est = 4.00   {'actual_k': 1, 'was_impossible': False}\n",
      "user: 3          item: 5          r_ui = 2.00   est = 1.50   {'actual_k': 2, 'was_impossible': False}\n",
      "user: 4          item: 0          r_ui = 0.00   est = 3.33   {'actual_k': 3, 'was_impossible': False}\n",
      "user: 4          item: 1          r_ui = 0.00   est = 3.00   {'actual_k': 1, 'was_impossible': False}\n",
      "user: 4          item: 2          r_ui = 5.00   est = 5.00   {'actual_k': 1, 'was_impossible': False}\n",
      "user: 4          item: 3          r_ui = 4.00   est = 3.40   {'actual_k': 5, 'was_impossible': False}\n",
      "user: 4          item: 4          r_ui = 0.00   est = 4.00   {'actual_k': 1, 'was_impossible': False}\n",
      "user: 4          item: 5          r_ui = 1.00   est = 1.50   {'actual_k': 2, 'was_impossible': False}\n"
     ]
    }
   ],
   "source": [
    "for u in range(5):\n",
    "    for i in range(6):\n",
    "        print(algoritmo.predict(u, i, r_ui=matrix_avaliacoes[u, i]))"
   ]
  },
  {
   "cell_type": "markdown",
   "metadata": {},
   "source": [
    "#### 7. Avaliando a Performance do Modelo"
   ]
  },
  {
   "cell_type": "markdown",
   "metadata": {},
   "source": [
    "Antes de gerar recomendações a partir dessas estimativas, é importante avaliarmos a performance de nosso modelo."
   ]
  },
  {
   "cell_type": "markdown",
   "metadata": {},
   "source": [
    "Existem diversas maneiras de avaliar a performance de nosso modelo, compondo métricas diferentes com partições diferentes dos dados de avaliações disponíveis.\n",
    "\n",
    "Uma dessas maneiras é chamada de Validação Cruzada (*Cross Validation*, do Inglês), implementada abaixo."
   ]
  },
  {
   "cell_type": "code",
   "execution_count": 14,
   "metadata": {},
   "outputs": [
    {
     "name": "stdout",
     "output_type": "stream",
     "text": [
      "Computing the cosine similarity matrix...\n",
      "Done computing similarity matrix.\n",
      "Computing the cosine similarity matrix...\n",
      "Done computing similarity matrix.\n",
      "Evaluating RMSE, MAE of algorithm KNNBasic on 2 split(s).\n",
      "\n",
      "                  Fold 1  Fold 2  Mean    Std     \n",
      "RMSE (testset)    2.0354  1.8369  1.9361  0.0993  \n",
      "MAE (testset)     1.5714  1.6190  1.5952  0.0238  \n",
      "Fit time          0.00    0.00    0.00    0.00    \n",
      "Test time         0.00    0.00    0.00    0.00    \n"
     ]
    },
    {
     "data": {
      "text/plain": [
       "{'test_rmse': array([2.03540098, 1.83688586]),\n",
       " 'test_mae': array([1.57142857, 1.61904762]),\n",
       " 'fit_time': (0.0001456737518310547, 3.147125244140625e-05),\n",
       " 'test_time': (0.00015616416931152344, 6.389617919921875e-05)}"
      ]
     },
     "execution_count": 14,
     "metadata": {},
     "output_type": "execute_result"
    }
   ],
   "source": [
    "cross_validate(algoritmo, dados, measures=[\"RMSE\", \"MAE\"], cv=2, verbose=True)"
   ]
  },
  {
   "cell_type": "markdown",
   "metadata": {},
   "source": [
    "Acima conseguimos ver duas métricas de avaliação (`RMSE`, *Root Mean Squared Error*; e `MAE`, *Mean Absolute Error*), aplicadas em duas divisões de nossos dados (`cv=2`, `Fold 1` e `Fold 2`), além do tempo de treino e teste (`Test time` e `Fit time`), que são \"gastos computacionais\".\n",
    "\n",
    "A medida que nossos modelos se tornam mais complexos e a disponibilidade de dados aumenta, validações cruzadas acabam providenciando uma maneira rápida de avaliar escalabilidade e acurácia: elas testam o quão bem nosso modelo conhece segmentos dos dados existentes de avaliações, e o quão escalável as metodologias atuais são."
   ]
  },
  {
   "cell_type": "markdown",
   "metadata": {},
   "source": [
    "#### 8. Gerando recomendações"
   ]
  },
  {
   "cell_type": "markdown",
   "metadata": {},
   "source": [
    "Uma maneira de utilizar nosso modelo é a partir da construção de um Anti-Conjunto de Dados para Teste. Na parte 6, testamos nosso modelo para cada combinação de usuário e item do sistema de forma manual. Porém, podemos criar um Conjunto de Dados para Teste, que consiste de todas as avaliações conhecidas do sistema, ou um Anti-Conjunto de Dados para Teste, que neste caso consiste de todas as avaliações que o sistema desconhece. \n",
    "\n",
    "É evidente que tal Anti-Conjunto terá apenas dados de usuários e itens; afinal, avaliações desconhecidas não possuem nenhum dado. Porém, é exatamente desse tipo de informação que precisamos: dizer ao modelo quais combinações de usuários e itens não possuímos avaliações, e fazer com o modelo estime essas avaliações. Em uma etapa subsequente, podemos usar essas estimativas para gerar recomendações de itens que usuários desconhecem, mas que provavelmente irão se interessar por."
   ]
  },
  {
   "cell_type": "markdown",
   "metadata": {},
   "source": [
    "Abaixo, criamos um Anti-Conjunto de Dados para Teste, que consiste de todas as avaliações não disponíveis no Conjunto de Dados para Treinamento. Optamos por utilizar o conjunto de dados para Treinamento pois, novamente, ele consiste de todas as avaliações conhecidas do sistema."
   ]
  },
  {
   "cell_type": "code",
   "execution_count": 15,
   "metadata": {},
   "outputs": [],
   "source": [
    "anti_conjunto_dados_teste = conjunto_dados_treinamento.build_anti_testset()"
   ]
  },
  {
   "cell_type": "markdown",
   "metadata": {},
   "source": [
    "Podemos visualizar esse anti-conjunto:"
   ]
  },
  {
   "cell_type": "code",
   "execution_count": 16,
   "metadata": {},
   "outputs": [
    {
     "name": "stdout",
     "output_type": "stream",
     "text": [
      "Usuário: 0, Item: 5, Avaliacao: 3.230769230769231\n",
      "Usuário: 0, Item: 2, Avaliacao: 3.230769230769231\n",
      "Usuário: 1, Item: 1, Avaliacao: 3.230769230769231\n",
      "Usuário: 1, Item: 4, Avaliacao: 3.230769230769231\n",
      "Usuário: 1, Item: 5, Avaliacao: 3.230769230769231\n",
      "Usuário: 1, Item: 2, Avaliacao: 3.230769230769231\n",
      "Usuário: 2, Item: 0, Avaliacao: 3.230769230769231\n",
      "Usuário: 2, Item: 1, Avaliacao: 3.230769230769231\n",
      "Usuário: 2, Item: 4, Avaliacao: 3.230769230769231\n",
      "Usuário: 2, Item: 5, Avaliacao: 3.230769230769231\n",
      "Usuário: 2, Item: 2, Avaliacao: 3.230769230769231\n",
      "Usuário: 3, Item: 1, Avaliacao: 3.230769230769231\n",
      "Usuário: 3, Item: 4, Avaliacao: 3.230769230769231\n",
      "Usuário: 3, Item: 2, Avaliacao: 3.230769230769231\n",
      "Usuário: 4, Item: 0, Avaliacao: 3.230769230769231\n",
      "Usuário: 4, Item: 1, Avaliacao: 3.230769230769231\n",
      "Usuário: 4, Item: 4, Avaliacao: 3.230769230769231\n"
     ]
    }
   ],
   "source": [
    "for avaliacao in anti_conjunto_dados_teste:\n",
    "    print(f\"Usuário: {avaliacao[0]}, Item: {avaliacao[1]}, Avaliacao: {avaliacao[2]}\")"
   ]
  },
  {
   "cell_type": "markdown",
   "metadata": {},
   "source": [
    "Note que o anti conjunto, supostamente, contém todas as avaliações desconhecidas pelo sistema. Mas, de qualquer maneira, o Surprise retornou uma avaliação de `3.230769230769231`. Esse número corresponde a média de todas as avaliações do sistema: ao não conhecer a avaliação de um certo usuário para um certo item, o Surprise simplesmente completou esse valor com a média. Ele não será útil para nós, mas é importante saber de sua existência."
   ]
  },
  {
   "cell_type": "markdown",
   "metadata": {},
   "source": [
    "Podemos testar o nosso modelo em nosso anti-conjunto com apenas uma linha:"
   ]
  },
  {
   "cell_type": "code",
   "execution_count": 17,
   "metadata": {},
   "outputs": [],
   "source": [
    "estimativas = algoritmo.test(anti_conjunto_dados_teste)"
   ]
  },
  {
   "cell_type": "markdown",
   "metadata": {},
   "source": [
    "E claro, podemos também mostrar todas as estimativas de avaliações desconhecidas."
   ]
  },
  {
   "cell_type": "code",
   "execution_count": 18,
   "metadata": {},
   "outputs": [
    {
     "name": "stdout",
     "output_type": "stream",
     "text": [
      "user: 0          item: 5          r_ui = 3.23   est = 1.00   {'actual_k': 1, 'was_impossible': False} <class 'surprise.prediction_algorithms.predictions.Prediction'>\n",
      "user: 0          item: 2          r_ui = 3.23   est = 2.57   {'was_impossible': True, 'reason': 'User and/or item is unknown.'} <class 'surprise.prediction_algorithms.predictions.Prediction'>\n",
      "user: 1          item: 1          r_ui = 3.23   est = 2.57   {'was_impossible': True, 'reason': 'Not enough neighbors.'} <class 'surprise.prediction_algorithms.predictions.Prediction'>\n",
      "user: 1          item: 4          r_ui = 3.23   est = 2.57   {'was_impossible': True, 'reason': 'Not enough neighbors.'} <class 'surprise.prediction_algorithms.predictions.Prediction'>\n",
      "user: 1          item: 5          r_ui = 3.23   est = 2.57   {'was_impossible': True, 'reason': 'Not enough neighbors.'} <class 'surprise.prediction_algorithms.predictions.Prediction'>\n",
      "user: 1          item: 2          r_ui = 3.23   est = 2.57   {'was_impossible': True, 'reason': 'User and/or item is unknown.'} <class 'surprise.prediction_algorithms.predictions.Prediction'>\n",
      "user: 2          item: 0          r_ui = 3.23   est = 2.57   {'was_impossible': True, 'reason': 'Not enough neighbors.'} <class 'surprise.prediction_algorithms.predictions.Prediction'>\n",
      "user: 2          item: 1          r_ui = 3.23   est = 3.00   {'actual_k': 1, 'was_impossible': False} <class 'surprise.prediction_algorithms.predictions.Prediction'>\n",
      "user: 2          item: 4          r_ui = 3.23   est = 4.00   {'actual_k': 1, 'was_impossible': False} <class 'surprise.prediction_algorithms.predictions.Prediction'>\n",
      "user: 2          item: 5          r_ui = 3.23   est = 1.00   {'actual_k': 1, 'was_impossible': False} <class 'surprise.prediction_algorithms.predictions.Prediction'>\n",
      "user: 2          item: 2          r_ui = 3.23   est = 2.57   {'was_impossible': True, 'reason': 'User and/or item is unknown.'} <class 'surprise.prediction_algorithms.predictions.Prediction'>\n",
      "user: 3          item: 1          r_ui = 3.23   est = 2.57   {'was_impossible': True, 'reason': 'User and/or item is unknown.'} <class 'surprise.prediction_algorithms.predictions.Prediction'>\n",
      "user: 3          item: 4          r_ui = 3.23   est = 2.57   {'was_impossible': True, 'reason': 'User and/or item is unknown.'} <class 'surprise.prediction_algorithms.predictions.Prediction'>\n",
      "user: 3          item: 2          r_ui = 3.23   est = 2.57   {'was_impossible': True, 'reason': 'User and/or item is unknown.'} <class 'surprise.prediction_algorithms.predictions.Prediction'>\n",
      "user: 4          item: 0          r_ui = 3.23   est = 2.57   {'was_impossible': True, 'reason': 'Not enough neighbors.'} <class 'surprise.prediction_algorithms.predictions.Prediction'>\n",
      "user: 4          item: 1          r_ui = 3.23   est = 3.00   {'actual_k': 1, 'was_impossible': False} <class 'surprise.prediction_algorithms.predictions.Prediction'>\n",
      "user: 4          item: 4          r_ui = 3.23   est = 4.00   {'actual_k': 1, 'was_impossible': False} <class 'surprise.prediction_algorithms.predictions.Prediction'>\n"
     ]
    }
   ],
   "source": [
    "for i in estimativas: print(i, type(i))"
   ]
  },
  {
   "cell_type": "markdown",
   "metadata": {},
   "source": [
    "Dispondo desses dados, podemos realizar uma tarefa ubíqua em sistemas de recomendação: recomendar os N itens mais bem avaliados para um usuário (recomendando apenas os itens que o usuário desconhece)."
   ]
  },
  {
   "cell_type": "code",
   "execution_count": 19,
   "metadata": {},
   "outputs": [],
   "source": [
    "def recomendar_n_itens_mais_avaliados(estimativas: list, n=2) -> dict:\n",
    "    \"\"\"\n",
    "    Dado uma lista de estimativas (objetos Prediction do Surprise),\n",
    "    retorna um dicionário onde as chaves são usuários e os valores\n",
    "    são os ids dos N itens mais bem avaliados para cada usuário.\n",
    "\n",
    "    Args:\n",
    "        estimativas: lista de objetos Prediction gerados pelo Surprise.\n",
    "        n: int do número de itens mais bem avaliados retornados.\n",
    "\n",
    "    Returns:\n",
    "        n_itens_mais_avaliados: dicionário especificado acima.\n",
    "    \"\"\"\n",
    "\n",
    "    # Criar o dicionário final, atualmente vazio.\n",
    "    n_itens_mais_avaliados = defaultdict(list) \n",
    "\n",
    "    # Adicionar todos itens estimados para o dicionário.\n",
    "    for id_usuario, id_item, _, estimativa, _ in estimativas:\n",
    "        n_itens_mais_avaliados[id_usuario].append((id_item, estimativa))\n",
    "\n",
    "    # Organizar a lista de cada usuário contido no dicionário, e pegar \n",
    "    # apenas os n itens mais bem avaliados.\n",
    "    for id_usuario in n_itens_mais_avaliados:\n",
    "        estimativas_usuario = n_itens_mais_avaliados[id_usuario]\n",
    "        estimativas_usuario.sort(key=lambda x: x[1], reverse=True) \n",
    "        n_itens_mais_avaliados[id_usuario] = estimativas_usuario[:n]\n",
    "\n",
    "    return n_itens_mais_avaliados"
   ]
  },
  {
   "cell_type": "code",
   "execution_count": 20,
   "metadata": {},
   "outputs": [],
   "source": [
    "top_n = recomendar_n_itens_mais_avaliados(estimativas, n=2)"
   ]
  },
  {
   "cell_type": "code",
   "execution_count": 21,
   "metadata": {},
   "outputs": [
    {
     "name": "stdout",
     "output_type": "stream",
     "text": [
      "Recomendações para o Usuário 0:\n",
      "Item 2\n",
      "Item 5\n",
      "Recomendações para o Usuário 1:\n",
      "Item 1\n",
      "Item 4\n",
      "Recomendações para o Usuário 2:\n",
      "Item 4\n",
      "Item 1\n",
      "Recomendações para o Usuário 3:\n",
      "Item 1\n",
      "Item 4\n",
      "Recomendações para o Usuário 4:\n",
      "Item 4\n",
      "Item 1\n"
     ]
    }
   ],
   "source": [
    "for u in range(5):\n",
    "    print(f\"Recomendações para o Usuário {u}:\")\n",
    "    for recomendacao_usuario in top_n[u]:\n",
    "        print(f\"Item {recomendacao_usuario[0]}\")"
   ]
  },
  {
   "cell_type": "markdown",
   "metadata": {},
   "source": [
    "#### 9. Salvando um Modelo e Estimativas para Utilização Futura"
   ]
  },
  {
   "cell_type": "markdown",
   "metadata": {},
   "source": [
    "Podemos utilizar o módulo `dump` do Surprise para salvar/carregar nosso modelo e estimativas."
   ]
  },
  {
   "cell_type": "markdown",
   "metadata": {},
   "source": [
    "Para salvar nosso modelo e estimativas em um arquivo `modelo_e_estimativas.pkl`, podemos utilizar essa linha:"
   ]
  },
  {
   "cell_type": "code",
   "execution_count": 22,
   "metadata": {},
   "outputs": [],
   "source": [
    "dump.dump(\"modelo_e_estimativas.pkl\", predictions=estimativas, algo=algoritmo)"
   ]
  },
  {
   "cell_type": "markdown",
   "metadata": {},
   "source": [
    "Para carregar um modelo salvo em um arquivo `modelo_e_estimativas.pkl`, podemos utilizar essa linha:"
   ]
  },
  {
   "cell_type": "code",
   "execution_count": 23,
   "metadata": {},
   "outputs": [],
   "source": [
    "est, modelo = dump.load(\"modelo_e_estimativas.pkl\")"
   ]
  },
  {
   "cell_type": "code",
   "execution_count": 24,
   "metadata": {},
   "outputs": [
    {
     "name": "stdout",
     "output_type": "stream",
     "text": [
      "user: 0          item: 5          r_ui = 3.23   est = 1.00   {'actual_k': 1, 'was_impossible': False}\n",
      "user: 0          item: 2          r_ui = 3.23   est = 2.57   {'was_impossible': True, 'reason': 'User and/or item is unknown.'}\n",
      "user: 1          item: 1          r_ui = 3.23   est = 2.57   {'was_impossible': True, 'reason': 'Not enough neighbors.'}\n",
      "user: 1          item: 4          r_ui = 3.23   est = 2.57   {'was_impossible': True, 'reason': 'Not enough neighbors.'}\n",
      "user: 1          item: 5          r_ui = 3.23   est = 2.57   {'was_impossible': True, 'reason': 'Not enough neighbors.'}\n",
      "user: 1          item: 2          r_ui = 3.23   est = 2.57   {'was_impossible': True, 'reason': 'User and/or item is unknown.'}\n",
      "user: 2          item: 0          r_ui = 3.23   est = 2.57   {'was_impossible': True, 'reason': 'Not enough neighbors.'}\n",
      "user: 2          item: 1          r_ui = 3.23   est = 3.00   {'actual_k': 1, 'was_impossible': False}\n",
      "user: 2          item: 4          r_ui = 3.23   est = 4.00   {'actual_k': 1, 'was_impossible': False}\n",
      "user: 2          item: 5          r_ui = 3.23   est = 1.00   {'actual_k': 1, 'was_impossible': False}\n",
      "user: 2          item: 2          r_ui = 3.23   est = 2.57   {'was_impossible': True, 'reason': 'User and/or item is unknown.'}\n",
      "user: 3          item: 1          r_ui = 3.23   est = 2.57   {'was_impossible': True, 'reason': 'User and/or item is unknown.'}\n",
      "user: 3          item: 4          r_ui = 3.23   est = 2.57   {'was_impossible': True, 'reason': 'User and/or item is unknown.'}\n",
      "user: 3          item: 2          r_ui = 3.23   est = 2.57   {'was_impossible': True, 'reason': 'User and/or item is unknown.'}\n",
      "user: 4          item: 0          r_ui = 3.23   est = 2.57   {'was_impossible': True, 'reason': 'Not enough neighbors.'}\n",
      "user: 4          item: 1          r_ui = 3.23   est = 3.00   {'actual_k': 1, 'was_impossible': False}\n",
      "user: 4          item: 4          r_ui = 3.23   est = 4.00   {'actual_k': 1, 'was_impossible': False}\n",
      "<surprise.prediction_algorithms.knns.KNNBasic object at 0x7f1ab2c75e80>\n"
     ]
    }
   ],
   "source": [
    "for i in est: print(i)\n",
    "print(modelo)"
   ]
  },
  {
   "cell_type": "markdown",
   "metadata": {},
   "source": [
    "#### Repetição: Filtragem Colaborativa baseada em Itens"
   ]
  },
  {
   "cell_type": "markdown",
   "metadata": {},
   "source": [
    "Agora vamos fazer o mesmo, mas usando filtragem colaborativa baseada em itens. Basta alterar a `configuracaoes[\"user_based\"]` para `False`"
   ]
  },
  {
   "cell_type": "code",
   "execution_count": 25,
   "metadata": {},
   "outputs": [
    {
     "name": "stdout",
     "output_type": "stream",
     "text": [
      "Computing the cosine similarity matrix...\n",
      "Done computing similarity matrix.\n",
      "Recomendações para o Usuário 0:\n",
      "Item 5\n",
      "Item 2\n",
      "Recomendações para o Usuário 1:\n",
      "Item 2\n",
      "Item 1\n",
      "Recomendações para o Usuário 2:\n",
      "Item 0\n",
      "Item 1\n",
      "Recomendações para o Usuário 3:\n",
      "Item 1\n",
      "Item 4\n",
      "Recomendações para o Usuário 4:\n",
      "Item 1\n",
      "Item 4\n"
     ]
    }
   ],
   "source": [
    "from surprise import Dataset, Reader, KNNBasic, dump\n",
    "\n",
    "from collections import defaultdict\n",
    "\n",
    "import numpy as np\n",
    "import pandas as pd\n",
    "\n",
    "avaliacoes = pd.DataFrame({\n",
    "    \"usuario\": [0, 0, 0, 0, 1, 1, 2, 3, 3, 3, 4, 4, 4],\n",
    "    \"item\": [0, 1, 3, 4, 0, 3, 3, 0, 3, 5, 2, 3, 5],\n",
    "    \"avaliacao\": [5, 3, 4, 4, 1, 3, 1, 4, 5, 2, 5, 4, 1],\n",
    "})\n",
    "\n",
    "leitor = Reader(rating_scale=(1, 5))\n",
    "\n",
    "dados = Dataset.load_from_df(avaliacoes, leitor)\n",
    "\n",
    "conjunto_dados_treinamento = dados.build_full_trainset()\n",
    "\n",
    "configuracoes = {\n",
    "    \"name\": \"cosine\",\n",
    "    # Isso significa que estaremos utilizando filtragem colaborativa baseada em itens.\n",
    "    \"user_based\": False,\n",
    "}\n",
    "\n",
    "algoritmo = KNNBasic(sim_options=configuracoes)\n",
    "\n",
    "algoritmo.fit(conjunto_dados_treinamento)\n",
    "\n",
    "anti_conjunto_dados_teste = conjunto_dados_treinamento.build_anti_testset()\n",
    "\n",
    "estimativas = algoritmo.test(anti_conjunto_dados_teste)\n",
    "\n",
    "dump.dump(\"modelo_e_estimativas.pkl\", predictions=estimativas, algo=algoritmo)\n",
    "\n",
    "def recomendar_n_itens_mais_avaliados(estimativas: list, n=2) -> dict:\n",
    "    \"\"\"\n",
    "    Dado uma lista de estimativas (objetos Prediction do Surprise),\n",
    "    retorna um dicionário onde as chaves são usuários e os valores\n",
    "    são os ids dos N itens mais bem avaliados para cada usuário.\n",
    "\n",
    "    Args:\n",
    "        estimativas: lista de objetos Prediction gerados pelo Surprise.\n",
    "        n: int do número de itens mais bem avaliados retornados.\n",
    "\n",
    "    Returns:\n",
    "        n_itens_mais_avaliados: dicionário especificado acima.\n",
    "    \"\"\"\n",
    "\n",
    "    # Criar o dicionário final, atualmente vazio.\n",
    "    n_itens_mais_avaliados = defaultdict(list) \n",
    "\n",
    "    # Adicionar todos itens estimados para o dicionário.\n",
    "    for id_usuario, id_item, _, estimativa, _ in estimativas:\n",
    "        n_itens_mais_avaliados[id_usuario].append((id_item, estimativa))\n",
    "\n",
    "    # Organizar a lista de cada usuário contido no dicionário, e pegar \n",
    "    # apenas os n itens mais bem avaliados.\n",
    "    for id_usuario in n_itens_mais_avaliados:\n",
    "        estimativas_usuario = n_itens_mais_avaliados[id_usuario]\n",
    "        estimativas_usuario.sort(key=lambda x: x[1], reverse=True) \n",
    "        n_itens_mais_avaliados[id_usuario] = estimativas_usuario[:n]\n",
    "\n",
    "    return n_itens_mais_avaliados\n",
    "\n",
    "top_n = recomendar_n_itens_mais_avaliados(estimativas, n=2)\n",
    "\n",
    "for u in range(5):\n",
    "    print(f\"Recomendações para o Usuário {u}:\")\n",
    "    for recomendacao_usuario in top_n[u]:\n",
    "        print(f\"Item {recomendacao_usuario[0]}\")\n"
   ]
  }
 ],
 "metadata": {
  "kernelspec": {
   "display_name": "base",
   "language": "python",
   "name": "python3"
  },
  "language_info": {
   "codemirror_mode": {
    "name": "ipython",
    "version": 3
   },
   "file_extension": ".py",
   "mimetype": "text/x-python",
   "name": "python",
   "nbconvert_exporter": "python",
   "pygments_lexer": "ipython3",
   "version": "3.9.13"
  },
  "orig_nbformat": 4
 },
 "nbformat": 4,
 "nbformat_minor": 2
}
