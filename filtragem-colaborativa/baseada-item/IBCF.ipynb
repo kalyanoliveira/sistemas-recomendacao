{
 "cells": [
  {
   "cell_type": "markdown",
   "metadata": {},
   "source": [
    "### Implementação Básica de Filtragem Colaborativa baseada em Itens"
   ]
  },
  {
   "cell_type": "markdown",
   "metadata": {},
   "source": [
    "Filtragem colaborativa é um processo oriundo de sistemas de recomendação, onde o objetivo é filtrar uma lista de itens para sugerir a um usuário o item mais \"relevante\" dessa lista.\n",
    "\n",
    "Itens são avaliados como \"relevante\" a partir de uma análise que busca por similaridades em um histórico de avaliações."
   ]
  },
  {
   "cell_type": "markdown",
   "metadata": {},
   "source": [
    "#### 1. Importação de Bibliotecas"
   ]
  },
  {
   "cell_type": "code",
   "execution_count": 1,
   "metadata": {},
   "outputs": [],
   "source": [
    "import numpy as np"
   ]
  },
  {
   "cell_type": "markdown",
   "metadata": {},
   "source": [
    "#### 2. Histórico de Avaliações"
   ]
  },
  {
   "cell_type": "markdown",
   "metadata": {},
   "source": [
    "Usaremos dados de um histórico de avaliações para os processos subsequentes.\n",
    "\n",
    "Para cada usuário, um array contém as avaliações daquele usuário para cada item de um catálogo:\n",
    "\n",
    "`usuario = [item0, item1, item2, item3, ...]`\n",
    "\n",
    "Caso um usuário não tenha avaliado um item, deixamos a avaliação como `0`."
   ]
  },
  {
   "cell_type": "code",
   "execution_count": 2,
   "metadata": {},
   "outputs": [],
   "source": [
    "NUM_USUARIOS = 4\n",
    "NUM_ITENS = 5\n",
    "\n",
    "usuario0 = [5, 1, 0, 2, 2]\n",
    "usuario1 = [1, 5, 2, 5, 5]\n",
    "usuario2 = [2, 0, 3, 5, 4]\n",
    "usuario3 = [4, 3, 5, 3, 0]\n"
   ]
  },
  {
   "cell_type": "markdown",
   "metadata": {},
   "source": [
    "Vamos transformar esses dados em uma matrix (um array 2D)."
   ]
  },
  {
   "cell_type": "code",
   "execution_count": 3,
   "metadata": {},
   "outputs": [],
   "source": [
    "avaliacoes = [usuario0, usuario1, usuario2, usuario3]\n",
    "\n",
    "matrix_avaliacoes = np.array(avaliacoes)"
   ]
  },
  {
   "cell_type": "code",
   "execution_count": 4,
   "metadata": {},
   "outputs": [
    {
     "name": "stdout",
     "output_type": "stream",
     "text": [
      "[[5 1 0 2 2]\n",
      " [1 5 2 5 5]\n",
      " [2 0 3 5 4]\n",
      " [4 3 5 3 0]]\n"
     ]
    }
   ],
   "source": [
    "print(matrix_avaliacoes)"
   ]
  },
  {
   "cell_type": "markdown",
   "metadata": {},
   "source": [
    "Iremos transpor nossa matrix de avaliações, de modo que linhas serão itens, e colunas serão usuários."
   ]
  },
  {
   "cell_type": "code",
   "execution_count": 5,
   "metadata": {},
   "outputs": [],
   "source": [
    "matrix_itens = np.transpose(matrix_avaliacoes)"
   ]
  },
  {
   "cell_type": "code",
   "execution_count": 6,
   "metadata": {},
   "outputs": [
    {
     "name": "stdout",
     "output_type": "stream",
     "text": [
      "[[5 1 2 4]\n",
      " [1 5 0 3]\n",
      " [0 2 3 5]\n",
      " [2 5 5 3]\n",
      " [2 5 4 0]]\n"
     ]
    }
   ],
   "source": [
    "print(matrix_itens)"
   ]
  },
  {
   "cell_type": "markdown",
   "metadata": {},
   "source": [
    "Isso é necessário. Agora, cada linha contém um vetor de todas avaliações dadas a um item.\n",
    "\n",
    "Podemos comparar esse vetores para ver o quão similar cada item é."
   ]
  },
  {
   "cell_type": "markdown",
   "metadata": {},
   "source": [
    "#### 3. Calculando a similaridade entre dois itens."
   ]
  },
  {
   "cell_type": "markdown",
   "metadata": {},
   "source": [
    "Vamos definir uma função que pega dois itens e retorna a similaridade entre eles."
   ]
  },
  {
   "cell_type": "code",
   "execution_count": 7,
   "metadata": {},
   "outputs": [],
   "source": [
    "def calcular_similaridade(vetor1: np.ndarray, vetor2: np.ndarray) -> float:\n",
    "    \"\"\"\n",
    "    Calcula a similaridade entre dois vetores a partir do coseno do ângulo entre\n",
    "    eles.\n",
    "\n",
    "    Args:\n",
    "        item1: numpy.ndarray do primeiro vetor\n",
    "        item2: numpy.ndarray do segundo vetor\n",
    "\n",
    "    Returns:\n",
    "        similaridade: float correspondendo a similaridade entre os dois vetores\n",
    "    \"\"\"\n",
    "\n",
    "    dot = np.dot(vetor1, vetor2)\n",
    "    \n",
    "    magnitude1 = np.linalg.norm(vetor1)\n",
    "    magnitude2 = np.linalg.norm(vetor2)\n",
    "\n",
    "    similaridade = dot / (magnitude1 * magnitude2)\n",
    "\n",
    "    return similaridade"
   ]
  },
  {
   "cell_type": "markdown",
   "metadata": {},
   "source": [
    "Com esses materiais, já conseguimos calcular a similaridade entre itens."
   ]
  },
  {
   "cell_type": "code",
   "execution_count": 8,
   "metadata": {},
   "outputs": [
    {
     "name": "stdout",
     "output_type": "stream",
     "text": [
      "Similaridade entre Itens 0 e 0: 1\n",
      "Similaridade entre Itens 0 e 1: 0.548\n",
      "Similaridade entre Itens 0 e 2: 0.67\n",
      "Similaridade entre Itens 0 e 3: 0.687\n",
      "Similaridade entre Itens 0 e 4: 0.506\n",
      "Similaridade entre Itens 1 e 0: 0.548\n",
      "Similaridade entre Itens 1 e 1: 1\n",
      "Similaridade entre Itens 1 e 2: 0.686\n",
      "Similaridade entre Itens 1 e 3: 0.767\n",
      "Similaridade entre Itens 1 e 4: 0.68\n",
      "Similaridade entre Itens 2 e 0: 0.67\n",
      "Similaridade entre Itens 2 e 1: 0.686\n",
      "Similaridade entre Itens 2 e 2: 1\n",
      "Similaridade entre Itens 2 e 3: 0.818\n",
      "Similaridade entre Itens 2 e 4: 0.532\n",
      "Similaridade entre Itens 3 e 0: 0.687\n",
      "Similaridade entre Itens 3 e 1: 0.767\n",
      "Similaridade entre Itens 3 e 2: 0.818\n",
      "Similaridade entre Itens 3 e 3: 1\n",
      "Similaridade entre Itens 3 e 4: 0.92\n",
      "Similaridade entre Itens 4 e 0: 0.506\n",
      "Similaridade entre Itens 4 e 1: 0.68\n",
      "Similaridade entre Itens 4 e 2: 0.532\n",
      "Similaridade entre Itens 4 e 3: 0.92\n",
      "Similaridade entre Itens 4 e 4: 1\n"
     ]
    }
   ],
   "source": [
    "for i, item in enumerate(matrix_itens):\n",
    "    for j, outro_item in enumerate(matrix_itens):\n",
    "        sim = calcular_similaridade(item, outro_item)\n",
    "        print(f\"Similaridade entre Itens {i} e {j}: {sim:.3g}\")"
   ]
  },
  {
   "cell_type": "markdown",
   "metadata": {},
   "source": [
    "#### 4. Matrix de Similaridades"
   ]
  },
  {
   "cell_type": "markdown",
   "metadata": {},
   "source": [
    "Podemos imaginar uma outra matrix Itens X Itens, denominada **\"Matrix de Similaridades\"**, para guardar esses dados de similaridades."
   ]
  },
  {
   "cell_type": "code",
   "execution_count": 9,
   "metadata": {},
   "outputs": [],
   "source": [
    "matrix_similaridades = np.empty(NUM_ITENS, dtype=np.ndarray)\n",
    "\n",
    "for i in range(NUM_ITENS):\n",
    "    similar = []\n",
    "\n",
    "    for j in range(NUM_ITENS):\n",
    "        similar.append(calcular_similaridade(matrix_itens[i], matrix_itens[j]))\n",
    "\n",
    "    matrix_similaridades[i] = np.array(similar)\n",
    "\n",
    "matrix_similaridades = np.stack(matrix_similaridades)"
   ]
  },
  {
   "cell_type": "code",
   "execution_count": 10,
   "metadata": {},
   "outputs": [
    {
     "name": "stdout",
     "output_type": "stream",
     "text": [
      "[[1.         0.54828926 0.66971082 0.6873098  0.50552503]\n",
      " [0.54828926 1.         0.68551062 0.76665188 0.68033605]\n",
      " [0.66971082 0.68551062 1.         0.81751912 0.53201592]\n",
      " [0.6873098  0.76665188 0.81751912 1.         0.92027908]\n",
      " [0.50552503 0.68033605 0.53201592 0.92027908 1.        ]]\n"
     ]
    }
   ],
   "source": [
    "print(matrix_similaridades)"
   ]
  },
  {
   "cell_type": "markdown",
   "metadata": {},
   "source": [
    "Outra maneira mais rápida de calcular essa matrix é a partir dessa linha de código:"
   ]
  },
  {
   "cell_type": "code",
   "execution_count": 11,
   "metadata": {},
   "outputs": [],
   "source": [
    "matrix_similaridades = np.dot(matrix_itens, matrix_itens.T) / (np.linalg.norm(matrix_itens, axis=1)[:, None] * np.linalg.norm(matrix_itens.T, axis=0))"
   ]
  },
  {
   "cell_type": "code",
   "execution_count": 12,
   "metadata": {},
   "outputs": [
    {
     "name": "stdout",
     "output_type": "stream",
     "text": [
      "[[1.         0.54828926 0.66971082 0.6873098  0.50552503]\n",
      " [0.54828926 1.         0.68551062 0.76665188 0.68033605]\n",
      " [0.66971082 0.68551062 1.         0.81751912 0.53201592]\n",
      " [0.6873098  0.76665188 0.81751912 1.         0.92027908]\n",
      " [0.50552503 0.68033605 0.53201592 0.92027908 1.        ]]\n"
     ]
    }
   ],
   "source": [
    "print(matrix_similaridades)"
   ]
  },
  {
   "cell_type": "markdown",
   "metadata": {},
   "source": [
    "Agora podemos utilizar essa matrix de similaridades para avaliar a utilidade de um item para um usuário."
   ]
  },
  {
   "cell_type": "markdown",
   "metadata": {},
   "source": [
    "#### 5. Avaliação de Utilidade"
   ]
  },
  {
   "cell_type": "markdown",
   "metadata": {},
   "source": [
    "Vamos definir uma função denominada \"Avaliar\" que pega um usuário e um item, e retorna a Utilidade daquele item para aquele usuário."
   ]
  },
  {
   "cell_type": "code",
   "execution_count": 13,
   "metadata": {},
   "outputs": [],
   "source": [
    "def avaliar(usuario: int, item: int) -> float:\n",
    "    \"\"\"\"\n",
    "    Dado um usuário e um item, retorna a utilidade daquele item para o usuário.\n",
    "\n",
    "    Args:\n",
    "        usuario: int do id do usuário\n",
    "        item: int do id do item\n",
    "        k: int do número de usuarios similares usados na comparação\n",
    "\n",
    "    Returns:\n",
    "        utilidade: float correspondente a previsão da utilidade/avaliação do \n",
    "                   item para o usuário\n",
    "    \"\"\"\n",
    "\n",
    "    # Número de itens similares utilizados no cálculo da utilidade.\n",
    "    k = 2\n",
    "\n",
    "    # Primeiro, pegamos o grau de similaridade de cada item com o item \n",
    "    # definido no argumento.\n",
    "    similaridades = matrix_similaridades[item]\n",
    "\n",
    "    # Agora precisamos obter o id dos k itens mais similares ao item \n",
    "    # definido no argumento que foram avaliados pelo usuário definido \n",
    "    # no argumento.\n",
    "\n",
    "    # Rankear todos itens base no grau de similaridade, e obter o id dos \n",
    "    # itens rankeados.\n",
    "    itens_rankeados = list(np.argsort(similaridades)[::-1][1:])\n",
    "\n",
    "    # Para cada item, se o usuário definido no argumento não o avaliou,\n",
    "    # remova-o da lista de itens rankeados.\n",
    "    for index, item_rankeado in enumerate(itens_rankeados):\n",
    "        if matrix_avaliacoes[usuario, item_rankeado] == 0:\n",
    "            itens_rankeados.pop(index)\n",
    "\n",
    "    # Obter os k itens mais similares que foram avaliados pelo usuário definido \n",
    "    # no argumento.\n",
    "    itens_mais_similares = itens_rankeados[:k]\n",
    "\n",
    "    # Obter as avaliações desses itens do usuário e o grau de similaridade \n",
    "    # de cada um.\n",
    "    avaliacoes_similares_do_usuario = matrix_avaliacoes[usuario, itens_mais_similares]\n",
    "    grau_similaridade = matrix_similaridades[item, itens_mais_similares]\n",
    "\n",
    "    # Fazer uma média ponderada das avaliações, onde os pesos são os graus \n",
    "    # de similaridade.\n",
    "    soma_ponderada = 0\n",
    "    for avaliacao, grau in zip(avaliacoes_similares_do_usuario, grau_similaridade):\n",
    "        soma_ponderada += grau * avaliacao \n",
    "    soma_pesos = sum(grau_similaridade)\n",
    "    media_ponderada = soma_ponderada / soma_pesos\n",
    "\n",
    "    # Definimos a utilidade como a média ponderada.\n",
    "    utilidade = media_ponderada\n",
    "\n",
    "    return utilidade"
   ]
  },
  {
   "cell_type": "markdown",
   "metadata": {},
   "source": [
    "Agora podemos avaliar a utilidade de cada item para cada usuário:"
   ]
  },
  {
   "cell_type": "code",
   "execution_count": 14,
   "metadata": {},
   "outputs": [
    {
     "name": "stdout",
     "output_type": "stream",
     "text": [
      "\n",
      "Avaliando item 0 para usuário 0: 1.56\n",
      "Avaliando item 1 para usuário 0: 2\n",
      "Avaliando item 2 para usuário 0: 1.54\n",
      "Avaliando item 3 para usuário 0: 1.55\n",
      "Avaliando item 4 para usuário 0: 1.57\n",
      "Avaliando item 0 para usuário 1: 3.52\n",
      "Avaliando item 1 para usuário 1: 3.58\n",
      "Avaliando item 2 para usuário 1: 5\n",
      "Avaliando item 3 para usuário 1: 3.59\n",
      "Avaliando item 4 para usuário 1: 5\n",
      "Avaliando item 0 para usuário 2: 4.01\n",
      "Avaliando item 1 para usuário 2: 4.06\n",
      "Avaliando item 2 para usuário 2: 3.65\n",
      "Avaliando item 3 para usuário 2: 3.53\n",
      "Avaliando item 4 para usuário 2: 4.27\n",
      "Avaliando item 0 para usuário 3: 3.99\n",
      "Avaliando item 1 para usuário 3: 3.94\n",
      "Avaliando item 2 para usuário 3: 3\n",
      "Avaliando item 3 para usuário 3: 4.03\n",
      "Avaliando item 4 para usuário 3: 3"
     ]
    }
   ],
   "source": [
    "for u in range(NUM_USUARIOS):\n",
    "    for i in range(NUM_ITENS):\n",
    "        print()\n",
    "        print(f\"Avaliando item {i} para usuário {u}: {avaliar(u, i):.3g}\", end=\"\")"
   ]
  },
  {
   "cell_type": "markdown",
   "metadata": {},
   "source": [
    "Vamos criar um ranqueamento dessas avaliações, e recomendar os itens mais bem ranqueados e desconhecidos pelos usuários. Um item desconhecido é um item que o usuário ainda não avaliou.\n",
    "\n",
    "Em um cenário com maior disponibilidade de dados, estariamos apenas avaliando os itens que os usuários desconhecem, e criando um ranqueamento a partir disso. Aqui, estou simplificando o processo pois a disponibilidade de dados é menor."
   ]
  },
  {
   "cell_type": "code",
   "execution_count": 20,
   "metadata": {},
   "outputs": [
    {
     "name": "stdout",
     "output_type": "stream",
     "text": [
      "Recomendações\n",
      "\n",
      "Usuário 0: Item 2\n",
      "Usuário 1: \n",
      "Usuário 2: Item 1\n",
      "Usuário 3: Item 4\n"
     ]
    }
   ],
   "source": [
    "recomendacoes = []\n",
    "\n",
    "for u in range(NUM_USUARIOS):\n",
    "    avaliacoes = []\n",
    "    for i in range(NUM_ITENS):\n",
    "        avaliacao = avaliar(u, i)\n",
    "        if matrix_avaliacoes[u, i] != 0:\n",
    "            continue\n",
    "        else:\n",
    "            avaliacoes.append((i, avaliacao))\n",
    "    \n",
    "    avaliacoes_ranqueadas = sorted(avaliacoes, key=(lambda x: x[1]))\n",
    "\n",
    "    recomendacoes.append((u, avaliacoes_ranqueadas))\n",
    "\n",
    "print(\"Recomendações\\n\")\n",
    "for recomendacao in recomendacoes:\n",
    "    print(f\"Usuário {recomendacao[0]}: \", end='')\n",
    "\n",
    "    if recomendacao[1]:\n",
    "        for i in recomendacao[1]:\n",
    "            print(f\"Item {i[0]}\", end='')\n",
    "    \n",
    "    print(\"\")"
   ]
  }
 ],
 "metadata": {
  "kernelspec": {
   "display_name": "base",
   "language": "python",
   "name": "python3"
  },
  "language_info": {
   "codemirror_mode": {
    "name": "ipython",
    "version": 3
   },
   "file_extension": ".py",
   "mimetype": "text/x-python",
   "name": "python",
   "nbconvert_exporter": "python",
   "pygments_lexer": "ipython3",
   "version": "3.9.13"
  },
  "orig_nbformat": 4
 },
 "nbformat": 4,
 "nbformat_minor": 2
}
