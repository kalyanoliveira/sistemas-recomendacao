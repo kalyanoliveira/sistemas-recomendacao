{
 "cells": [
  {
   "cell_type": "markdown",
   "metadata": {},
   "source": [
    "## O *Hello, World!* de Sistemas de Recomendação\n",
    "\n",
    "Abaixo, uma implementação básica de um sistema de recomendação não-personalizado a partir da disponibilidade de dados de avaliações.\n",
    "\n",
    "Todos sistemas de recomendação utilizam dados categorizados como interações. Interações se configuram toda vez que um usuário do sistema interage com um item do catálogo. \n",
    "\n",
    "Feedback explícito, ou avaliações, são exemplos de interações que conseguimos utilizar em sistemas de recomendação."
   ]
  },
  {
   "cell_type": "markdown",
   "metadata": {},
   "source": [
    "#### 1. Importação de Bibliotecas"
   ]
  },
  {
   "cell_type": "code",
   "execution_count": 1,
   "metadata": {},
   "outputs": [],
   "source": [
    "import numpy as np"
   ]
  },
  {
   "cell_type": "markdown",
   "metadata": {},
   "source": [
    "#### 2. Histórico de Avaliações"
   ]
  },
  {
   "cell_type": "markdown",
   "metadata": {},
   "source": [
    "Usaremos dados de um histórico de avaliações para os processos subsequentes.\n",
    "\n",
    "Para cada usuário, um array contém as avaliações daquele usuário para cada item de um catálogo:\n",
    "\n",
    "`usuario = [item0, item1, item2, item3, ...]`\n",
    "\n",
    "Caso um usuário não tenha avaliado um item, deixamos a avaliação como 0."
   ]
  },
  {
   "cell_type": "code",
   "execution_count": 2,
   "metadata": {},
   "outputs": [],
   "source": [
    "NUM_USUARIOS = 6\n",
    "NUM_ITENS = 6\n",
    "\n",
    "usuario0 = [5, 3, 0, 4, 4, 0]\n",
    "usuario1 = [1, 0, 0, 3, 0, 0]\n",
    "usuario2 = [0, 0, 0, 1, 0, 0]\n",
    "usuario3 = [4, 0, 0, 5, 0, 2]\n",
    "usuario4 = [0, 0, 5, 4, 0, 1]\n",
    "usuario5 = [0, 0, 0, 0, 0, 0]"
   ]
  },
  {
   "cell_type": "markdown",
   "metadata": {},
   "source": [
    "Vamos transformar esses dados em uma matriz (um array 2D)."
   ]
  },
  {
   "cell_type": "code",
   "execution_count": 3,
   "metadata": {},
   "outputs": [],
   "source": [
    "avaliacoes = [usuario0, usuario1, usuario2, usuario3, usuario4, usuario5]\n",
    "\n",
    "matriz_avaliacoes = np.array(avaliacoes)"
   ]
  },
  {
   "cell_type": "code",
   "execution_count": 4,
   "metadata": {},
   "outputs": [
    {
     "name": "stdout",
     "output_type": "stream",
     "text": [
      "[[5 3 0 4 4 0]\n",
      " [1 0 0 3 0 0]\n",
      " [0 0 0 1 0 0]\n",
      " [4 0 0 5 0 2]\n",
      " [0 0 5 4 0 1]\n",
      " [0 0 0 0 0 0]]\n"
     ]
    }
   ],
   "source": [
    "print(matriz_avaliacoes)"
   ]
  },
  {
   "cell_type": "markdown",
   "metadata": {},
   "source": [
    "Agora, de maneira simplista, podemos recomendar o item com a melhor avaliação média."
   ]
  },
  {
   "cell_type": "code",
   "execution_count": 5,
   "metadata": {},
   "outputs": [
    {
     "name": "stdout",
     "output_type": "stream",
     "text": [
      "Recomendação de item (aquele mais bem avaliado): Item 3\n"
     ]
    }
   ],
   "source": [
    "avaliacoes_medias = np.mean(matriz_avaliacoes, axis=0)\n",
    "melhor_item = np.argsort(avaliacoes_medias)[::-1][0]\n",
    "print(f\"Recomendação de item (aquele mais bem avaliado): Item {melhor_item}\")"
   ]
  },
  {
   "cell_type": "markdown",
   "metadata": {},
   "source": [
    "De fato: o Item 3 não somente é aquele mais bem avaliado, como também é o item mais avaliado."
   ]
  }
 ],
 "metadata": {
  "kernelspec": {
   "display_name": "base",
   "language": "python",
   "name": "python3"
  },
  "language_info": {
   "codemirror_mode": {
    "name": "ipython",
    "version": 3
   },
   "file_extension": ".py",
   "mimetype": "text/x-python",
   "name": "python",
   "nbconvert_exporter": "python",
   "pygments_lexer": "ipython3",
   "version": "3.9.13"
  },
  "orig_nbformat": 4
 },
 "nbformat": 4,
 "nbformat_minor": 2
}
